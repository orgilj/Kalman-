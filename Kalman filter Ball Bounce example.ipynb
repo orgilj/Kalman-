{
 "cells": [
  {
   "cell_type": "markdown",
   "metadata": {},
   "source": [
    "<div style=\"text-align: center\"> \n",
    "<span style=\"color:dark;font-family: Times New Roman; font-size: 2em;\">\n",
    "Kalman filter Ball Bounce example\n",
    "</span></div>"
   ]
  },
  {
   "cell_type": "markdown",
   "metadata": {},
   "source": [
    "<div style=\"text-align: justify\"> \n",
    "<span style=\"color:blue;font-family: Times New Roman; font-size: 1.3em;\">\n",
    "Та бүхэндээ энэ өдрийн мэнд хүргэе. Саяхан болсон явдалаас урьд нь ойлгох гээд орхисон байсан асуудлыг шийдэхээр энэхүү Python 2.7.14 болон Opencv 3.0.0 - ий Kalman шүүрээр хөөрч буй бөмбөгний ойлтыг тооцоолох жишээг хийхээр шийдлээ. Энэхүү жишээгээр бид ойж буй бөмбөгийг тойрог дүрсээр төлөөлүүлэн түүнд шуугиан нэмж оруулах ба үүний дараа уг шуугиантай бөмбөгний ойлтыг Kalman - ий шүүрээр шүүх юм. Уг шүүрийг хэрэглэхдээ бид түүний онолын мэдлэгийг дадлагатай холбон давхар сурах ба түүнийгээ цааш үргэлжлүүлэн өргөтгөж өөр хэлбэрийн жишээ нь дроны тогтворжилт түүнтэй ижил бусад тогтвортой системийг тооцоолох боломжийг олгох юм. За ингээд Kalman шүүрийн онолтой танилья.\n",
    "</span></div>"
   ]
  },
  {
   "cell_type": "markdown",
   "metadata": {},
   "source": [
    "<div style=\"text-align: center\"> \n",
    "<span style=\"color:dark;font-family: Times New Roman; font-size: 2em;\">\n",
    "Kalman Filter\n",
    "</span></div>"
   ]
  },
  {
   "cell_type": "markdown",
   "metadata": {},
   "source": [
    "<div style=\"text-align: justify\"> \n",
    "<span style=\"color:blue;font-family: Times New Roman; font-size: 1.3em;\">\n",
    "Kalman шүүлтүүрийг зарим нэг хувьсан өөрчлөгддөг (динамик) системийн тухай тодорхой мэдээлэлтэй үед хэрэглэж болох ба системийн дараагийн хийх гэж байгаа үйлдлийн талаар нь боловсруулсан таамаглалыг гаргаж болдог. Бодит байдал дээр бидний боловсруулах мэдээлэл эмх замбараагүй дараалалын (шуугианы) хамт орж ирдэг ба үүнийг Kalman шүүлтүүрээр шүүн үнэн хэрэгтээ ямар мэдээлэл байгааг мэдэж болно. Мөн өмнөх төлөвийг хадгалах санах ой шаардахгүйгээр хурдан боловсруулалт хийдэг давуу талтай болохоор Kalman шүүлтүүрийг тасралтгүй өөрчлөгдөж байдаг бодит системийн тооцооллын хувьд хамгийн тохиромжтой. Kalman шүүлтүүрийн математик хэлбэрүүдийг бид Google - ээс олж болох ба энэ хэтэрхий хүнд мэт санагдах байх. Иймээс бүгдээрээ тэдгээр математик хэлбэрийн томъёонуудыг дэс дараалалтайгаар үзвэл Kalman шүүлтүүр нь үнэндээ хэт энгийн ба ойлгох зөв аргаа олох хэрэгтэй. Үүний тулд танд бага зэргийн магадлалын болон матрицийн үндсэн ойлголт байхад хангалттай.\n",
    "</span></div>"
   ]
  },
  {
   "cell_type": "markdown",
   "metadata": {},
   "source": [
    "<div style=\"text-align: center\"> \n",
    "<span style=\"color:dark;font-family: Times New Roman; font-size: 2em;\">\n",
    "Kalman Filter юу хийж чадах вэ?\n",
    "</span></div>"
   ]
  },
  {
   "cell_type": "markdown",
   "metadata": {},
   "source": [
    "<div style=\"text-align: justify\"> \n",
    "<span style=\"color:blue;font-family: Times New Roman; font-size: 1.3em;\">\n",
    "Жишээ авч үзье: Та ой дунд явдаг робот бүтээсэн гэж бодъё. Тэгвэл роботын байршлыг зөв мэдсэнээр түүнийг жолоодох боломжтой болох юм. Роботын төлвийн мэдээллийг $\\overrightarrow{x}_{(k)} \\\\$ түүний байршил болон хурдаар бичвэл: $$\\overrightarrow{x}_{(k)} = (\\overrightarrow{p},\\overrightarrow{v}) \\\\$$ Нэмж хэлхэд төлвийн мэдээлэл нь зүгээр л үндсэн мэдээллийн тоо бөгөөд энэ нь юу ч байж болно. Энэ нь таны тооцоолох гэж байгаа системтэй холбоотой мэдээллүүд байна. Жишээ нь: шингэн савны температур эсвэл машины моторын хэмжээ гэх мэт таны тооцоолон олох гэж байгаа ямар нэг системийн тоо юм.\n",
    "</span></div>\n",
    "\n",
    "<div style=\"text-align: justify\"> \n",
    "<span style=\"color:blue;font-family: Times New Roman; font-size: 1.3em;\">\n",
    "Бидний робот 10метрийн нарийвчлалтай GPS - тэй бөгөөд энэ нь ой модонд явж байгаа роботын хувьд хэдэн метр алдахад л робот хаднаас унах гэх мэт эрсдэл гарах боломжтой болохоор ганцхан GPS хангалтгүй. Мөн бид робот хэрхэн хөдөлдөг тухай мэдэх хэрэгтэй: дугуйны мотор нь илгээсэн тушаалуудын дагуу хөдөлдөг бөгөөд тухайн чиглэлд саадгүй байвал дараагын агшинд тэр чиглэлд хөдөлгөөнөө үргэлжлүүлж байх магадлалтай юм. Гадны олон төрлийн нөлөө жишээ нь салхи, дугуйны бага зэргийн халтиргаа эсвэл донсолгоотой газар нутаг дээр өнхрөх гэх мэт шалтгаанаас болж бид дараагын агшинд робот хэр хол явсан, хаана байхыг яг таамаглан мэднэ гэсэн үг биш юм. GPS мэдрэгч нь төлвийн талаар бага мэдээллийг шууд бусаар алдаатай болон тодорхойгүйгээр мэдээлнэ. Бидний таамаглал ч бас бидэнд робот хэрхэн хөдөлж байгаа тухай мэдээллийг шууд бусаар алдаатай болон тодорхойгүйгээр мэдээлнэ. Хэрэв бидэнд бүх мэдээлэл байх юм бол бид илүү дээр таамаглалын мэдээлэл гарган авч болно. \n",
    "</span></div>"
   ]
  },
  {
   "cell_type": "markdown",
   "metadata": {},
   "source": [
    "<div style=\"text-align: center\"> \n",
    "<span style=\"color:dark;font-family: Times New Roman; font-size: 2em;\">\n",
    "Kalman шүүлтүүр таны асуудлыг хэрхэн хардаг вэ?\n",
    "</span></div>"
   ]
  },
  {
   "cell_type": "markdown",
   "metadata": {},
   "source": [
    "<div style=\"text-align: justify\"> \n",
    "<span style=\"color:blue;font-family: Times New Roman; font-size: 1.3em;\">\n",
    "Газрын зургыг харан тайлбарлах гэж оролдоё. Бидэнд байгаа энгийн байршил болон хурдны төлвийн мэдээллээр цааш үргэлжлүүлье.\n",
    "$$\\overrightarrow{x}_{(k)} = \\left(\\begin{array}{cc} p \\\\ v \\end{array}\\right) \\\\$$\n",
    "Бид яг үнэндээ байрлал болон хурдны мэдээллийн зөв утгыг мэдэхгүй байгаа. Байрлал болон хурдны хослолын бүх л хүрээнд бидний хайж байгаа утга байх магадлалтай бөгөөд тэдний зарим арай илүү үнэнд дөхсөн байна.\n",
    "</span></div>"
   ]
  },
  {
   "cell_type": "markdown",
   "metadata": {},
   "source": [
    "![alt text](https://github.com/adam-p/markdown-here/raw/master/src/common/images/icon48.png \"Logo Title Text 1\")"
   ]
  },
  {
   "cell_type": "code",
   "execution_count": 2,
   "metadata": {
    "collapsed": false
   },
   "outputs": [
    {
     "ename": "AttributeError",
     "evalue": "'module' object has no attribute 'cv'",
     "output_type": "error",
     "traceback": [
      "\u001b[0;31m---------------------------------------------------------------------------\u001b[0m",
      "\u001b[0;31mAttributeError\u001b[0m                            Traceback (most recent call last)",
      "\u001b[0;32m<ipython-input-2-6fdf5e0ef87b>\u001b[0m in \u001b[0;36m<module>\u001b[0;34m()\u001b[0m\n\u001b[1;32m     34\u001b[0m     \u001b[0mcv2\u001b[0m\u001b[1;33m.\u001b[0m\u001b[0mnamedWindow\u001b[0m\u001b[1;33m(\u001b[0m\u001b[1;34m\"Simulation\"\u001b[0m\u001b[1;33m)\u001b[0m\u001b[1;33m\u001b[0m\u001b[0m\n\u001b[1;32m     35\u001b[0m     \u001b[0mimg\u001b[0m \u001b[1;33m=\u001b[0m \u001b[0mnp\u001b[0m\u001b[1;33m.\u001b[0m\u001b[0mzeros\u001b[0m\u001b[1;33m(\u001b[0m\u001b[1;33m(\u001b[0m\u001b[0mheight\u001b[0m\u001b[1;33m,\u001b[0m \u001b[0mwidth\u001b[0m\u001b[1;33m,\u001b[0m \u001b[1;36m3\u001b[0m\u001b[1;33m)\u001b[0m\u001b[1;33m,\u001b[0m \u001b[0mdtype\u001b[0m\u001b[1;33m=\u001b[0m\u001b[0mnp\u001b[0m\u001b[1;33m.\u001b[0m\u001b[0muint8\u001b[0m\u001b[1;33m)\u001b[0m\u001b[1;33m\u001b[0m\u001b[0m\n\u001b[0;32m---> 36\u001b[0;31m     \u001b[0mvideo_writer\u001b[0m \u001b[1;33m=\u001b[0m \u001b[0mcv2\u001b[0m\u001b[1;33m.\u001b[0m\u001b[0mVideoWriter\u001b[0m\u001b[1;33m(\u001b[0m\u001b[1;34m\"test.avi\"\u001b[0m\u001b[1;33m,\u001b[0m \u001b[0mcv2\u001b[0m\u001b[1;33m.\u001b[0m\u001b[0mcv\u001b[0m\u001b[1;33m.\u001b[0m\u001b[0mCV_FOURCC\u001b[0m\u001b[1;33m(\u001b[0m\u001b[1;34m'M'\u001b[0m\u001b[1;33m,\u001b[0m\u001b[1;34m'J'\u001b[0m\u001b[1;33m,\u001b[0m\u001b[1;34m'P'\u001b[0m\u001b[1;33m,\u001b[0m\u001b[1;34m'G'\u001b[0m\u001b[1;33m)\u001b[0m\u001b[1;33m,\u001b[0m \u001b[1;36m30\u001b[0m\u001b[1;33m,\u001b[0m \u001b[1;33m(\u001b[0m\u001b[0mwidth\u001b[0m\u001b[1;33m,\u001b[0m \u001b[0mheight\u001b[0m\u001b[1;33m)\u001b[0m\u001b[1;33m,\u001b[0m \u001b[0mTrue\u001b[0m\u001b[1;33m)\u001b[0m\u001b[1;33m\u001b[0m\u001b[0m\n\u001b[0m\u001b[1;32m     37\u001b[0m     \u001b[1;32mwhile\u001b[0m \u001b[0mTrue\u001b[0m\u001b[1;33m:\u001b[0m\u001b[1;33m\u001b[0m\u001b[0m\n\u001b[1;32m     38\u001b[0m         \u001b[0mcode\u001b[0m \u001b[1;33m=\u001b[0m \u001b[0mcv2\u001b[0m\u001b[1;33m.\u001b[0m\u001b[0mwaitKey\u001b[0m\u001b[1;33m(\u001b[0m\u001b[0mint\u001b[0m\u001b[1;33m(\u001b[0m\u001b[0mdt\u001b[0m\u001b[1;33m*\u001b[0m\u001b[1;36m1000\u001b[0m\u001b[1;33m)\u001b[0m\u001b[1;33m)\u001b[0m \u001b[1;33m&\u001b[0m \u001b[1;36m0xFF\u001b[0m\u001b[1;33m\u001b[0m\u001b[0m\n",
      "\u001b[0;31mAttributeError\u001b[0m: 'module' object has no attribute 'cv'"
     ]
    }
   ],
   "source": [
    "import cv2\n",
    "import numpy as np\n",
    "import math\n",
    "import random\n",
    "\n",
    "def convert_world_coordinate_to_canvas_coordinate((x, y)):\n",
    "    global meter_to_pixel_ratio, blob_radius\n",
    "    x_canvas = int(x*meter_to_pixel_ratio) + blob_radius\n",
    "    y_canvas = height - int(y*meter_to_pixel_ratio) - blob_radius\n",
    "    return (x_canvas, y_canvas)\n",
    "\n",
    "if __name__ == '__main__':\n",
    "    \"\"\"\"\n",
    "    Creates a video where a ball is moving. Signal noise and false positives are modelled.\n",
    "    \"\"\"\n",
    "    \n",
    "    noise_sigma = 0.8 # standard deviation for the noise in m\n",
    "    missing_observation_percentage = 10 # how many observations are missing? in percentage\n",
    "    outlier_percentage = 10 # how many observations are false positives? in percentage\n",
    "    \n",
    "    start_velocity = 40.0 # start velocity in m/s\n",
    "    start_angle = 70.0 # start angle in degree\n",
    "    dt = 0.033 # time step in second\n",
    "    g = 9.81 # gravitational acceleration in m/s^2\n",
    "    meter_to_pixel_ratio = 5.0 # 1 meter is 5 pixels\n",
    "    blob_radius = 10 # blob radius in pixel\n",
    "    \n",
    "    start_velocity_x = start_velocity * math.cos(math.radians(start_angle))\n",
    "    start_velocity_y = start_velocity * math.sin(math.radians(start_angle)) \n",
    "    t = 0\n",
    "    \n",
    "    width = 640\n",
    "    height = 480\n",
    "    cv2.namedWindow(\"Simulation\")\n",
    "    img = np.zeros((height, width, 3), dtype=np.uint8)\n",
    "    video_writer = cv2.VideoWriter(\"test.avi\", cv2.cv.CV_FOURCC('M','J','P','G'), 30, (width, height), True)\n",
    "    while True:\n",
    "        code = cv2.waitKey(int(dt*1000)) & 0xFF\n",
    "        if code in [27, ord('Q'), ord('q')]:\n",
    "            break\n",
    "        t = t + dt\n",
    "        x = start_velocity_x*t\n",
    "        y = start_velocity_y*t - 0.5*g*t**2\n",
    "        \n",
    "        # adding gaussian noise\n",
    "        x_with_noise = random.gauss(x, noise_sigma)\n",
    "        y_with_noise = random.gauss(y, noise_sigma)\n",
    "        \n",
    "        if y > 0:\n",
    "            img[:] = 0\n",
    "            # draw the true value?\n",
    "            (x_canvas, y_canvas) = convert_world_coordinate_to_canvas_coordinate((x, y)) \n",
    "#            cv2.circle(img, (x_canvas, y_canvas), blob_radius, (0, 255, 0), -1)\n",
    "            \n",
    "            r = random.uniform(0, 100)\n",
    "            if t > 4*dt and r < missing_observation_percentage:\n",
    "                # no observation                \n",
    "                pass\n",
    "#            elif t > 4*dt and r < missing_observation_percentage + outlier_percentage:\n",
    "#                # adding outlier, some random point\n",
    "#                x_random = int(random.uniform(0, width))\n",
    "#                y_random = int(random.uniform(0, height))\n",
    "#                    \n",
    "                # draw outlier\n",
    "#                cv2.circle(img, (x_random, y_random), blob_radius, (255, 255, 255), -1)\n",
    "            else:                \n",
    "                # draw noise signal\n",
    "                #print x_canvas, y_canvas\n",
    "                \n",
    "                (x_canvas, y_canvas) = convert_world_coordinate_to_canvas_coordinate((x_with_noise, y_with_noise))\n",
    "                cv2.circle(img, (x_canvas, y_canvas), blob_radius, (255, 255, 255), -1)\n",
    "            video_writer.write(img)\n",
    "        else:\n",
    "            break\n",
    "        cv2.imshow(\"Simulation\", img)\n",
    "    cv2.destroyAllWindows()"
   ]
  },
  {
   "cell_type": "code",
   "execution_count": null,
   "metadata": {
    "collapsed": true
   },
   "outputs": [],
   "source": []
  }
 ],
 "metadata": {
  "anaconda-cloud": {},
  "kernelspec": {
   "display_name": "Python [conda root]",
   "language": "python",
   "name": "conda-root-py"
  },
  "language_info": {
   "codemirror_mode": {
    "name": "ipython",
    "version": 2
   },
   "file_extension": ".py",
   "mimetype": "text/x-python",
   "name": "python",
   "nbconvert_exporter": "python",
   "pygments_lexer": "ipython2",
   "version": "2.7.12"
  }
 },
 "nbformat": 4,
 "nbformat_minor": 2
}
