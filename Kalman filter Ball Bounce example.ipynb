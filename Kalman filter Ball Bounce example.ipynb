{
 "cells": [
  {
   "cell_type": "markdown",
   "metadata": {},
   "source": [
    "<div style=\"text-align: center\"> \n",
    "<span style=\"color:dark;font-family: Times New Roman; font-size: 2em;\">\n",
    "Kalman filter Ball Bounce example\n",
    "</span></div>"
   ]
  },
  {
   "cell_type": "markdown",
   "metadata": {},
   "source": [
    "<div style=\"text-align: justify\"> \n",
    "<span style=\"color:blue;font-family: Times New Roman; font-size: 1.3em;\">\n",
    "Та бүхэндээ энэ өдрийн мэнд хүргэе. Саяхан болсон явдалаас урьд нь ойлгох гээд орхисон байсан асуудлыг шийдэхээр энэхүү Python 2.7.14 болон Opencv 3.0.0 - ий Kalman шүүрээр хөөрч буй бөмбөгний ойлтыг тооцоолох жишээг хийхээр шийдлээ. Энэхүү жишээгээр бид ойж буй бөмбөгийг тойрог дүрсээр төлөөлүүлэн түүнд шуугиан нэмж оруулах ба үүний дараа уг шуугиантай бөмбөгний ойлтыг Kalman - ий шүүрээр шүүх юм. Уг шүүрийг хэрэглэхдээ бид түүний онолын мэдлэгийг дадлагатай холбон давхар сурах ба түүнийгээ цааш үргэлжлүүлэн өргөтгөж өөр хэлбэрийн жишээ нь дроны тогтворжилт түүнтэй ижил бусад тогтвортой системийг тооцоолох боломжийг олгох юм. За ингээд Kalman шүүрийн онолтой танилья.\n",
    "\n",
    "</span></div>\n",
    "\n"
   ]
  },
  {
   "cell_type": "markdown",
   "metadata": {},
   "source": [
    "<div style=\"text-align: center\"> \n",
    "<span style=\"color:dark;font-family: Times New Roman; font-size: 2em;\">\n",
    "Kalman Filter\n",
    "</span></div>"
   ]
  },
  {
   "cell_type": "markdown",
   "metadata": {},
   "source": [
    "<div style=\"text-align: justify\"> \n",
    "<span style=\"color:blue;font-family: Times New Roman; font-size: 1.3em;\">\n",
    "Kalman шүүлтүүрийг зарим нэг хувьсан өөрчлөгддөг (динамик) системийн тухай тодорхой мэдээлэлтэй үед хэрэглэж болох ба системийн дараагийн хийх гэж байгаа үйлдлийн талаар нь боловсруулсан таамаглалыг гаргаж болдог. Бодит байдал дээр бидний боловсруулах мэдээлэл эмх замбараагүй дараалалын (шуугианы) хамт орж ирдэг ба үүнийг Kalman шүүлтүүрээр шүүн үнэн хэрэгтээ ямар мэдээлэл байгааг мэдэж болно. Мөн өмнөх төлөвийг хадгалах санах ой шаардахгүйгээр хурдан боловсруулалт хийдэг давуу талтай болохоор Kalman шүүлтүүрийг тасралтгүй өөрчлөгдөж байдаг бодит системийн тооцооллын хувьд хамгийн тохиромжтой. Kalman шүүлтүүрийн математик хэлбэрүүдийг бид Google - ээс олж болох ба энэ хэтэрхий хүнд мэт санагдах байх. Иймээс бүгдээрээ тэдгээр математик хэлбэрийн томъёонуудыг дэс дараалалтайгаар үзвэл Kalman шүүлтүүр нь үнэндээ хэт энгийн ба ойлгох зөв аргаа олох хэрэгтэй. Үүний тулд танд бага зэргийн магадлалын болон матрицийн үндсэн ойлголт байхад хангалттай.\n",
    "\n",
    "</span></div>\n",
    "\n",
    "\n"
   ]
  },
  {
   "cell_type": "markdown",
   "metadata": {},
   "source": [
    "<div style=\"text-align: center\"> \n",
    "<span style=\"color:dark;font-family: Times New Roman; font-size: 2em;\">\n",
    "Kalman Filter юу хийж чадах вэ?\n",
    "</span></div>"
   ]
  },
  {
   "cell_type": "markdown",
   "metadata": {},
   "source": [
    "<div style=\"text-align: justify\"> \n",
    "<span style=\"color:blue;font-family: Times New Roman; font-size: 1.3em;\">\n",
    "Жишээ авч үзье: Та ой дунд явдаг робот бүтээсэн гэж бодъё. Тэгвэл роботын байршлыг зөв мэдсэнээр түүнийг жолоодох боломжтой болох юм. Роботын төлвийн мэдээллийг \n",
    "$\n",
    "\\overrightarrow{x}_{(k)} \\\\\n",
    "$ \n",
    "түүний байршил болон хурдаар бичвэл: \n",
    "$$\n",
    "\\overrightarrow{x}_{(k)} = (\\overrightarrow{p},\\overrightarrow{v}) \\\\\n",
    "$$ Нэмж хэлхэд төлвийн мэдээлэл нь зүгээр л үндсэн мэдээллийн тоо бөгөөд энэ нь юу ч байж болно. Энэ нь таны тооцоолох гэж байгаа системтэй холбоотой мэдээллүүд байна. Жишээ нь: шингэн савны температур эсвэл машины моторын хэмжээ гэх мэт таны тооцоолон олох гэж байгаа ямар нэг системийн тоо юм.\n",
    "\n",
    "Бидний робот 10метрийн нарийвчлалтай GPS - тэй бөгөөд энэ нь ой модонд явж байгаа роботын хувьд хэдэн метр алдахад л робот хаднаас унах гэх мэт эрсдэл гарах боломжтой болохоор ганцхан GPS хангалтгүй. Мөн бид робот хэрхэн хөдөлдөг тухай мэдэх хэрэгтэй: дугуйны мотор нь илгээсэн тушаалуудын дагуу хөдөлдөг бөгөөд тухайн чиглэлд саадгүй байвал дараагын агшинд тэр чиглэлд хөдөлгөөнөө үргэлжлүүлж байх магадлалтай юм. Гадны олон төрлийн нөлөө жишээ нь салхи, дугуйны бага зэргийн халтиргаа эсвэл донсолгоотой газар нутаг дээр өнхрөх гэх мэт шалтгаанаас болж бид дараагын агшинд робот хэр хол явсан, хаана байхыг яг таамаглан мэднэ гэсэн үг биш юм. GPS мэдрэгч нь төлвийн талаар бага мэдээллийг шууд бусаар алдаатай болон тодорхойгүйгээр мэдээлнэ. Бидний таамаглал ч бас бидэнд робот хэрхэн хөдөлж байгаа тухай мэдээллийг шууд бусаар алдаатай болон тодорхойгүйгээр мэдээлнэ. Хэрэв бидэнд бүх мэдээлэл байх юм бол бид илүү дээр таамаглалын мэдээлэл гарган авч болно. \n",
    "\n",
    "</span></div>\n",
    "\n"
   ]
  },
  {
   "cell_type": "markdown",
   "metadata": {},
   "source": [
    "<div style=\"text-align: center\"> \n",
    "<span style=\"color:dark;font-family: Times New Roman; font-size: 2em;\">\n",
    "Kalman шүүлтүүр таны асуудлыг хэрхэн хардаг вэ?\n",
    "</span></div>"
   ]
  },
  {
   "cell_type": "markdown",
   "metadata": {},
   "source": [
    "<div style=\"text-align: justify\"> \n",
    "<span style=\"color:blue;font-family: Times New Roman; font-size: 1.3em;\">\n",
    "Газрын зургыг харан тайлбарлах гэж оролдоё. Бидэнд байгаа энгийн байршил болон хурдны төлвийн мэдээллээр цааш үргэлжлүүлье.\n",
    "$$\n",
    "\\overrightarrow{x}_{(k)} = \\left(\\begin{array}{cc} p \\\\ v \\end{array}\\right) \\\\\n",
    "$$\n",
    "Бид яг үнэндээ байрлал болон хурдны мэдээллийн зөв утгыг мэдэхгүй байгаа. Байрлал болон хурдны хослолын бүх л хүрээнд бидний хайж байгаа утга байх магадлалтай бөгөөд тэдний зарим арай илүү үнэнд дөхсөн байна.\n",
    "\n",
    "</span></div>\n",
    "\n"
   ]
  },
  {
   "cell_type": "markdown",
   "metadata": {},
   "source": [
    "\n",
    "![alt text](images/gauss_0.png)\n"
   ]
  },
  {
   "cell_type": "markdown",
   "metadata": {
    "collapsed": false
   },
   "source": [
    "<div style=\"text-align: justify\"> \n",
    "<span style=\"color:blue;font-family: Times New Roman; font-size: 1.3em;\">\n",
    "Kalman шүүлтүүр аль аль нь хувьсагчуудыг (байрлал болон хурд) санамсаргүй болон Гауссын тархалттай гэж үздэг. Хувьсагч бүрд санамсаргүй тархалтын дунд байрлах дундаж утга μ болон өөрчлөлт \n",
    "$\n",
    "\\sigma^2\n",
    "$\n",
    "\n",
    "</span></div>"
   ]
  },
  {
   "cell_type": "markdown",
   "metadata": {
    "collapsed": true
   },
   "source": [
    "\n",
    "![alt text](images/gauss_1.png)\n"
   ]
  },
  {
   "cell_type": "markdown",
   "metadata": {},
   "source": [
    "<div style=\"text-align: justify\"> \n",
    "<span style=\"color:blue;font-family: Times New Roman; font-size: 1.3em;\">\n",
    "Дээрх зургаас харахад байршил болон хурдны аль нэг хувьсагч нь нөгөө нэгэнтэйгээ хамааралгүй болж байна. Доорх зурагт арай сонирхолтой буюу байршил болон хурд нь хоорондоо хамааралтай харагдаж байна. \n",
    "\n",
    "</span></div>"
   ]
  },
  {
   "cell_type": "markdown",
   "metadata": {},
   "source": [
    "\n",
    "![alt text](images/gauss_3.png)\n"
   ]
  },
  {
   "cell_type": "markdown",
   "metadata": {},
   "source": [
    "<div style=\"text-align: justify\"> \n",
    "<span style=\"color:blue;font-family: Times New Roman; font-size: 1.3em;\">\n",
    "Жишээ нь, бид хуучин утганд тулгуурлан шинэ байрлал тооцох нөхцөлд дараах байдлаар гарч болох юм. Хэрвээ бидний хурд өндөр байх юм бол магадгүй бид хол явсан байна. Эсрэгээрээ роботын хурд удаан байсан бол тийм ч холдоогүй байна. Энэ хамаарал нь нэг хэмжилтээс бидэнд бусад нь ямар байж болох талаар хэлж илүү их мэдээлэл өгдөг учраас мөрдөхөд чухал юм. Бид тодорхой бус хэмжилтээс аль болох их мэдээллийг хүсдэг.\n",
    "</span></div>\n",
    "<div style=\"text-align: justify\"> \n",
    "<span style=\"color:blue;font-family: Times New Roman; font-size: 1.3em;\">\n",
    "Энэхүү хамаарлыг бид \n",
    "[covariance matrix](https://en.wikipedia.org/wiki/Covariance_matrix)\n",
    "гэдэг. Товчхондоо $\\sum_{ij}$ матрицийн элемент бүр нь i дүгээр болон j дугаар төлвийн хувьсагчдын утгуудын хоорондын хамаарлын өнцөг байна. Covariance-ийн матриц нь тэгш хэмтэй буюу $i j$  хоёрыг хооронд нь солиход асуудалгүй. Covariance-ийн матрицыг ихэвчилэн $\\sum$ гэж тэмдэглэдэг болохоор түүний элементийг $\\sum_{ij}$ гэдэг.\n",
    "</span></div>"
   ]
  },
  {
   "cell_type": "markdown",
   "metadata": {
    "collapsed": true
   },
   "source": [
    "\n",
    "![alt text](images/gauss_2.png)\n"
   ]
  },
  {
   "cell_type": "markdown",
   "metadata": {},
   "source": [
    "<div style=\"text-align: center\"> \n",
    "<span style=\"color:dark;font-family: Times New Roman; font-size: 2em;\">\n",
    "Матрицаар асуудлыг тодорхойлох\n",
    "</span></div>"
   ]
  },
  {
   "cell_type": "markdown",
   "metadata": {},
   "source": [
    "<div style=\"text-align: justify\"> \n",
    "<span style=\"color:blue;font-family: Times New Roman; font-size: 1.3em;\">\n",
    "Төлвийн Гауссын гадаргуугын  талбайн мэдлэгээр бид загварчилна. Иймээс бидэнд тухайн хугацаа k буюу бидний хамгийн сайн тооцоолол \n",
    "$\n",
    "\\hat{x}_k\n",
    "$ (дундаж) ба түүний Covariance-ийн матриц \n",
    "$\n",
    "P_k\n",
    "$ гэсэн 2 хэсэг мэдээлэл хэрэгтэй.\n",
    "$$\n",
    "\\overrightarrow{x}_{k} = \\left[\\begin{array}{cc} position \\\\ velocity \\end{array}\\right] \\\\\n",
    "$$\n",
    "$$\n",
    "P_{k} = \\left[\\begin{array}{cc} \\sum_{pp}&\\sum_{pv} \\\\ \\sum_{vp}&\\sum_{vv} \\end{array}\\right] \\tag{1} \\\\\n",
    "$$\n",
    "Энд мэдээж ямар ч тооны ямар ч хувьсагч ашиглаж болох ба бидний жишээн дээр байрлал болон хурдыг тодорхойлох нь ашигтай юм.  Дараа нь бид одоогийн төлвөөс (k-1 хугацаанд)  дараагийн таамаглалын төлөв k хугацааг хайх хэрэгтэй. Сануулахад, бид одоогийн төлвийн бодит утга яг аль нь вэ гэдгийг мэдэхгүй байна. Гэвч энэ нь таамаглах функцэд хамаагүй юм. Энэ нь зөвхөн бүгдэн дээр нь ажилладаг.\n",
    "</span></div>"
   ]
  },
  {
   "cell_type": "markdown",
   "metadata": {},
   "source": [
    "\n",
    "![alt text](images/gauss_7.jpg)\n"
   ]
  },
  {
   "cell_type": "markdown",
   "metadata": {},
   "source": [
    "<div style=\"text-align: justify\"> \n",
    "<span style=\"color:blue;font-family: Times New Roman; font-size: 1.3em;\">\n",
    "Ингэснээр бид таамаглах алхамын матрицыг $F_k$-аар төлөөлүүлнэ.\n",
    "</span></div>"
   ]
  },
  {
   "cell_type": "markdown",
   "metadata": {},
   "source": [
    "\n",
    "![alt text](images/gauss_8.jpg)\n"
   ]
  },
  {
   "cell_type": "markdown",
   "metadata": {},
   "source": [
    "\n",
    "<div style=\"text-align: justify\"> \n",
    "<span style=\"color:blue;font-family: Times New Roman; font-size: 1.3em;\">\n",
    "\n",
    "Цэг бүрийн эх тооцоолол болон хэрэв эх тооцоолол зөв бол хаана систем шилжсэн байж болох талаар шинэ байршил руу шилжүүлэх таамагллыг гаргаж авдаг. \n",
    "Үүнийг хэрэгжүүлье. Цаашид дараагийн агшинд байрлал, хурдыг таамаглах матрицыг бид хэрхэн ашиглах вэ? Бид kinematic-ийн үндсэн томъёог ашиглаж болно.\n",
    "$$\n",
    "p_k = \\left[\\begin{array}{cc} p_{k-1}+dt*v_{k-1} \\end{array}\\right] \\\\\n",
    "$$\n",
    "$$\n",
    "v_{k} = \\left[\\begin{array}{cc} & & & & v_{k-1}\\end{array}\\right] \\\\\n",
    "$$\n",
    "Өөрөөр хэлбэл:\n",
    "$$\n",
    "\\color{red}{\\hat{x}_{k}}\\color{black} = \\left[\\begin{array}{cc} 1 & dt \\\\ 0 & 1 \\end{array}\\right]\\hat{x}_{k-1} \\tag{2}\\\\\n",
    "$$\n",
    "$$\n",
    "= F_k \\hat{x}_{k-1}  \\tag{3}\n",
    "$$\n",
    "</span></div>\n",
    "\n",
    "\n"
   ]
  },
  {
   "cell_type": "markdown",
   "metadata": {},
   "source": [
    "\n",
    "<div style=\"text-align: justify\"> \n",
    "<span style=\"color:blue;font-family: Times New Roman; font-size: 1.3em;\">\n",
    "Одоо бид дараагийн төлвийг өгдөг таамаглах матрицтай боллоо. Гэвч одоог болтол covariace-ийн матрицыг хэрхэн шинэчилэхийг мэдэхгүй байна.\n",
    "Тиймээс бидэнд шинэ томъёо хэрэгтэй. Хэрвээ бид тархалтын бүх цэг бүрийг $A$ матрицаар үржүүлвэл, тэгвэл covariace-ийн матриц \n",
    "$\n",
    "\\sum\n",
    "$ яах вэ гэвэл дараах хэлбэртэй болно.\n",
    "$$ \n",
    "Cov{(x)}=\\sum \\tag{4}\n",
    "$$\n",
    "$$ \n",
    "Cov{(\\color{red}{A} \\color{black}{x} )}=\\color{red}{A} \\color{black}{\\sum}  \\color{red}{A^T}  \n",
    "$$\n",
    "Томъёо 4, 3 хоёрыг нийлүүлж бичвэл:\n",
    "$$\n",
    "\\begin{array}{cc} \\color{red}{\\hat{x}_{k}}\\color{black} =  F_k \\hat{x}_{k-1} \\\\ \\color{red}{P_k}  =\\color{red}{F_k} \\color{black}{P_{k-1}}  \\color{red}{F_k^T}\\end{array}  \\tag{5}\\\\\n",
    "$$\n",
    "</span></div>"
   ]
  },
  {
   "cell_type": "markdown",
   "metadata": {},
   "source": [
    "<div style=\"text-align: center\"> \n",
    "<span style=\"color:dark;font-family: Times New Roman; font-size: 2em;\">\n",
    "Гадаад нөлөө\n",
    "</span></div>"
   ]
  },
  {
   "cell_type": "markdown",
   "metadata": {
    "collapsed": true
   },
   "source": [
    "\n",
    "<div style=\"text-align: justify\"> \n",
    "<span style=\"color:blue;font-family: Times New Roman; font-size: 1.3em;\">\n",
    "Бид бүх зүйлийн талаар тооцоолоогүй байна. Төлвөөс үл хамаарах зарим нэг гадаад ертөнцийн системд нөлөөлөх нөлөө байж болох юм. Жишээ нь, хэрэв галт тэрэгний хөдөлгөөний төлвийн загварт оператор тохируулагч дээр дарснаар вагоныг хурдасгадаг. Үүнтэй нэгэн адил бидний роботын жишээн дээр жолоодох програм хангамж нь арааг эргүүлэх эсвэл зогсоох командыг гаргаж болно. Хэрвээ бид гадаад ертөнцөд юу болж байгаа талаар нэмэлт мэдээлэлтэй бол бид \n",
    "$\n",
    "u_k\n",
    "$ \n",
    "векторт оруулснаар урьдчилан таамаглахыг залруулж болох юм. \n",
    "<p>Бид хүлээгдэж буй\n",
    "$\n",
    "a\n",
    "$ хурдатгалыг мэдсэнээр тохируулж эсвэл удирдаж болно. Үндсэн kinematic-аас дараах томъёог гаргаж болно.\n",
    "$$\n",
    "p_k = \\left[\\begin{array}{cc} p_{k-1}+dt*v_{k-1}+\\frac{1}{2}adt^2 \\end{array}\\right] \\\\\n",
    "$$\n",
    "$$\n",
    "v_{k} = \\left[\\begin{array}{cc} & & & & v_{k-1}+adt\\end{array}\\right] \\\\\n",
    "$$\n",
    "Матриц хэлбэрээр:\n",
    "$$\n",
    "\\begin{array}{cc} \\color{red}{\\hat{x}_{k}}\\color{black} =  F_k \\hat{x}_{k-1} + \\left[\\begin{array}{cc} \\frac{dt^2}{2} \\\\ dt \\end{array}\\right]a \\\\  =\\color{red}{F_k} \\color{black}{\\hat{x}_{k-1}} + B_k \\overrightarrow{u}_{k} \\end{array}  \\tag{6}\\\\\n",
    "$$\n",
    "$B_k$ бол удирдлагын матриц, $u_k$ удирдлагын вектор юм. (Гадны нөлөөгүй энгийн системд та үүнийг орхиж болно) Бидний загвар 100% үнэн таамаглаж чадахгүй бол юу болох вэ?\n",
    "</span></div>"
   ]
  },
  {
   "cell_type": "markdown",
   "metadata": {},
   "source": [
    "<div style=\"text-align: center\"> \n",
    "<span style=\"color:dark;font-family: Times New Roman; font-size: 2em;\">\n",
    "Гадаад тодорхой бус байдал\n",
    "</span></div>\n"
   ]
  },
  {
   "cell_type": "markdown",
   "metadata": {},
   "source": [
    "<div style=\"text-align: justify\"> \n",
    "<span style=\"color:blue;font-family: Times New Roman; font-size: 1.3em;\">\n",
    "Хэрэв төлөв өөрийн үндсэн үзүүлэлтүүдэд тулгуурласан бол бүгд зүгээр. Төлөв нь яг ямар гадаад хүч хэр хэмжээгээр нөлөөлж буйг мэдэх хүртэл бүх зүйл хэвийн бус байна. Жишээ нь, хэрэв бид quadcopter мөрдөж байгаа тохиолдолд салхинд цохиулж болно. Хэрэв бид дугуйтай робот мөрдөж байвал дугуй хий эргэх болон газарт шигдэж сууж болно. Эдгээрийн аль нэг нь тохиолдвол бид эдгээр зүйлсийг гадаад хүчний нөлөөг тооцоолоогүйн улмаас бидний таамаглал алга болж мөрдөж чадахгүй болно. Хувирамтгай байдалтай холбогдсон дэлхийд таамаглал бүрийн дараа бид шинэ хувирамтгай чанарыг нэмэснээр загварчилж чадна.\n",
    "</span></div>"
   ]
  },
  {
   "cell_type": "markdown",
   "metadata": {},
   "source": [
    "![alt text](images/gauss_9.jpg)"
   ]
  },
  {
   "cell_type": "markdown",
   "metadata": {},
   "source": [
    "<div style=\"text-align: justify\"> \n",
    "<span style=\"color:blue;font-family: Times New Roman; font-size: 1.3em;\">\n",
    "Төлөв бүр тооцооллын дараа төлвийн хүрээний дагуу шилжсэн байна.  $\n",
    "x_{k-1}\n",
    "$ цэг бүр Гауссын хамрах хүрээ, covariance \n",
    "$\n",
    "Q_k\n",
    "$ дотор хаа нэгтээ шилжинэ. Үүнийг өөрөөр хэлбэл covariance \n",
    "$\n",
    "Q_k\n",
    "$ шуугианыг засна гэж үзэж болно.\n",
    "</span></div>\n"
   ]
  },
  {
   "cell_type": "markdown",
   "metadata": {
    "collapsed": true
   },
   "source": [
    "![alt text](images/gauss_10a.jpg)"
   ]
  },
  {
   "cell_type": "markdown",
   "metadata": {},
   "source": [
    "<div style=\"text-align: justify\"> \n",
    "<span style=\"color:blue;font-family: Times New Roman; font-size: 1.3em;\">\n",
    "Энэ нь ижил дундаж цэгтэй өөр covariance - тай шинэ Гауссын хамрах хүрээг гаргадаг.\n",
    "</span></div>"
   ]
  },
  {
   "cell_type": "markdown",
   "metadata": {},
   "source": [
    "![alt text](images/gauss_10b.jpg)"
   ]
  },
  {
   "cell_type": "markdown",
   "metadata": {},
   "source": [
    "<div style=\"text-align: justify\"> \n",
    "<span style=\"color:blue;font-family: Times New Roman; font-size: 1.3em;\">\n",
    "Бид covariance - ийг \n",
    "$\n",
    "Q_k\n",
    "$ \n",
    " - г нэмж өргөтгөснөөр таамаглалын бүрэн илэрхийлэлтэй болно.\n",
    "$$\n",
    "\\begin{array}{cc} \\color{red}{\\hat{x}_{k}}\\color{black} =  F_k \\hat{x}_{k-1} + B_k  \\overrightarrow{u}_{k} \\\\ \\color{red}{P_k}  =\\color{red}{F_k} \\color{black}{P_{k-1}}  \\color{red}{F_k^T}+Q_k\\end{array}  \\tag{7}\\\\\n",
    "$$\n",
    "Өөрөөр хэлбэл хамгийн сайн таамаглалын тооцоолол бол өмнөх төлвийн сайн тооцоолол дээр мэдэгдэж буй гадаад нөлөөллийн утгыг нэмж засвар хийснээр гардаг. Мөн хуучин тодорхойгүй байдал дээр гадны орчны тодорхойгүй байдлын утгыг нэмснээр шинэ тодорхойгүй байдлын утга гардаг. Бидэнд өгөгдсөн \n",
    "$х_к$\n",
    "болон \n",
    "$P_k$ \n",
    "- аар бидний систем хаана байж болох талаар ойлгомжтой тооцоотой байна. Тэгвэл мэдрэгч зарим мэдээллийг авах буюу утга тасалдах үед яах вэ?\n",
    "</span></div>"
   ]
  },
  {
   "cell_type": "markdown",
   "metadata": {},
   "source": [
    "<div style=\"text-align: center\"> \n",
    "<span style=\"color:dark;font-family: Times New Roman; font-size: 2em;\">\n",
    "Хэмжилтийн тооцооллыг боловсронгуй болгох\n",
    "</span></div>"
   ]
  },
  {
   "cell_type": "markdown",
   "metadata": {},
   "source": [
    "<div style=\"text-align: justify\"> \n",
    "<span style=\"color:blue;font-family: Times New Roman; font-size: 1.3em;\">\n",
    "Системийн төлвийн талаар мэдээлэл өгөх хэд хэдэн мэдрэгчүүдтэй байж болно. Тодорхой хугацаанд эдгээр мэдрэгчүүд нь юу хэмжих нь хамаагүй юм. Магадгүй нэг нь байрлал нөгөө нэг нь хурд хэмжиж байж болно. Мэдрэгчүүд нь бидэнд төлвийн талаар шууд бусаар мэдээлж байдаг. Өөрөөр хэлбэл мэдрэгчүүд нь төлөв болон мэдээлэл унших тал дээр ажилладаг юм.\n",
    "</span></div>"
   ]
  },
  {
   "cell_type": "markdown",
   "metadata": {},
   "source": [
    "![alt text](images/gauss_12.jpg)"
   ]
  },
  {
   "cell_type": "markdown",
   "metadata": {},
   "source": [
    "<div style=\"text-align: justify\"> \n",
    "<span style=\"color:blue;font-family: Times New Roman; font-size: 1.3em;\">\n",
    "Нэмж хэлэхэд мэрдэгчүүдийн уншсан мэдээллийн нэгжүүд өөр өөр байж болох бөгөөд тэдгээрийг бид ижил нэгжтэй болгосноор цааш үргэлжлүүлнэ. Мэдрэгчийг \n",
    "$\n",
    "\\mathbf{H}_k\n",
    "$\n",
    "матриц болгон загварчилснаар бид хаашаа явж буйг таах боломжтой байж болох юм.\n",
    "</span></div>"
   ]
  },
  {
   "cell_type": "markdown",
   "metadata": {},
   "source": [
    "![alt text](images/gauss_13.jpg)"
   ]
  },
  {
   "cell_type": "markdown",
   "metadata": {},
   "source": [
    "<div style=\"text-align: justify\"> \n",
    "<span style=\"color:blue;font-family: Times New Roman; font-size: 1.3em;\">\n",
    "Бид мэдрэгчийн заалтын хуваарилалтын зургыг энгийн байдлаар харж болно. \n",
    "\\begin{equation} \n",
    "\\begin{aligned} \n",
    "\\vec{\\mu}_{\\text{expected}} &= \\mathbf{H}_k \\color{deeppink}{\\mathbf{\\hat{x}}_k} \\\\ \n",
    "\\mathbf{\\Sigma}_{\\text{expected}} &= \\mathbf{H}_k \\color{deeppink}{\\mathbf{P}_k} \\mathbf{H}_k^T \n",
    "\\end{aligned} \n",
    "\\tag{8}\n",
    "\\end{equation}\n",
    "Нэг үгээр хэлбэл Kalman шүүр нь мэдрэгчийн шуугианд хамгийн сайн тохирдог.\n",
    "</span></div>\n"
   ]
  },
  {
   "cell_type": "markdown",
   "metadata": {},
   "source": [
    "![alt text](images/gauss_14.jpg)"
   ]
  },
  {
   "cell_type": "markdown",
   "metadata": {},
   "source": [
    "<div style=\"text-align: justify\"> \n",
    "<span style=\"color:blue;font-family: Times New Roman; font-size: 1.3em;\">\n",
    "Мэдээлэл унших ажиглалтаас эхлэн бидний систем тодорхой төлөвт байна гэж үзэж болно. Гэвч тодорхой бус байдлаас болж зарим төлвүүд нь бидний харж буйтай адилхан байх магадлалтай байдаг:\n",
    "</span></div>\n"
   ]
  },
  {
   "cell_type": "markdown",
   "metadata": {},
   "source": [
    "![alt text](images/gauss_11.jpg)"
   ]
  },
  {
   "cell_type": "markdown",
   "metadata": {},
   "source": [
    "<div style=\"text-align: justify\"> \n",
    "<span style=\"color:blue;font-family: Times New Roman; font-size: 1.3em;\">\n",
    "Энэхүү тодорхойгүй байдлыг бид covariance гэдэг.(өөрөөр мэдрэгчийн шуугиан) \n",
    "$\n",
    "R_k\n",
    "$. Тархалт нь \n",
    "$\n",
    "\\overrightarrow{z}_{k}\n",
    "$\n",
    "гэдэг хэмжилтийн дундаж утгатай.\n",
    "Эндээс бид хоёр Гауссын хамрах хүрээтэй болно. Нэг нь дундаж таамаглалын өөрчлөлт, нөгөө нэг нь бидний мэдрэгчээс уншиж авсан мэдээлэл.\n",
    "</span></div>"
   ]
  },
  {
   "cell_type": "markdown",
   "metadata": {},
   "source": [
    "![alt text](images/gauss_4.jpg)"
   ]
  },
  {
   "cell_type": "markdown",
   "metadata": {},
   "source": [
    "<div style=\"text-align: justify\"> \n",
    "<span style=\"color:blue;font-family: Times New Roman; font-size: 1.3em;\">\n",
    "Бид одоо таамагласан төлөв (ягаан хэсэг) болон мэдрэгчээс уншиж авсан мэдээлэл (ногоон хэсэг) хоёрыг нэгтгэх хэрэгтэй.\n",
    "Үүний үр дүнд эдгээр хоёр тархалтын давхцлын хэсгийг авах хэрэгтэй буюу \n",
    "$\n",
    "(z_1,z_2)\n",
    "$\n",
    " - г унших боломжит хоёр хэмжилтийн магадлал байна: (1) \n",
    "$\n",
    "(z_1,z_2)\n",
    "$\n",
    "утгуудыг\n",
    "$\n",
    "\\overrightarrow{z}_{k}\n",
    "$\n",
    "мэдрэгчийн утгыг уншиж авах болон (2) өмнөх төлвөөс тооцоолсон магадлал\n",
    "$\n",
    "(z_1,z_2)\n",
    "$\n",
    "<p>\n",
    "Ингээд бид хоёр үнэн байх магадлалтай утгатай болсон бөгөөд эдгээрийн аль аль нь үнэн байх магадлалтай учраас тэдгээрийн Гауссын тархалтын хамрах хүрээнүүдийг хооронд нь үржүүлнэ.\n",
    "</span></div>"
   ]
  },
  {
   "cell_type": "markdown",
   "metadata": {},
   "source": [
    "![alt text](images/gauss_6a.png)"
   ]
  },
  {
   "cell_type": "markdown",
   "metadata": {},
   "source": [
    "<div style=\"text-align: justify\"> \n",
    "<span style=\"color:blue;font-family: Times New Roman; font-size: 1.3em;\">\n",
    "Хоёр хамрах хүрээний давхцалын муж нь илүү тод буюу үнэнд илүү дөхсөн тооцооллын утга байна. Энэ тархалтын давхцалын мужийн дундаж нь хэмжилт болон таамаглалын тооцоонуудад хамгийн их ойртсон байх магадлалтай ба энэхүү зөв тохиргооноос хамгийн шилдэг таамаглалыг бидэнд гаргаж өгнө.\n",
    "<p>\n",
    "Доорхи зурагаар шинэ Гауссын хамрах хүрээг дүрслэв.\n",
    "</span></div>"
   ]
  },
  {
   "cell_type": "markdown",
   "metadata": {},
   "source": [
    "![alt text](images/gauss_6.png)"
   ]
  },
  {
   "cell_type": "markdown",
   "metadata": {},
   "source": [
    "<div style=\"text-align: justify\"> \n",
    "<span style=\"color:blue;font-family: Times New Roman; font-size: 1.3em;\">\n",
    "Гауссын хамрах хүрээнүүдийг өөр өөр дундаж утга болон covariance матрицийн хамт үржүүлэхэд, энэ нь шинэ Гауссын хамрах хүрээ болон өөрийн дундажтай covariance матриц үүснэ. Эндээс хуучин параметрүүдээс шинэ параметр гаргадаг томъёо оршин байх уу?\n",
    "</span></div>"
   ]
  },
  {
   "cell_type": "markdown",
   "metadata": {},
   "source": [
    "<div style=\"text-align: center\"> \n",
    "<span style=\"color:dark;font-family: Times New Roman; font-size: 2em;\">\n",
    "Гауссуудыг хослуулах\n",
    "</span></div>"
   ]
  },
  {
   "cell_type": "markdown",
   "metadata": {},
   "source": [
    "<div style=\"text-align: justify\"> \n",
    "<span style=\"color:blue;font-family: Times New Roman; font-size: 1.3em;\">\n",
    "Тэгэхлээр бид тэрхүү томъёог хайя. Эхлээд бид нэг хэмжээст гэж үзвэл хялбар байна. \n",
    "$\n",
    "\\sigma^2\n",
    "$\n",
    "өөрчлөлттэй\n",
    "$\n",
    "\\mu\n",
    "$\n",
    "дундажтай 1D Гауссын муруйн хувьд:\n",
    "$$\n",
    "\\mathcal{N}(x, \\mu,\\sigma) = \\frac{1}{ \\sigma \\sqrt{ 2\\pi } } e^{ -\\frac{ (x - \\mu)^2 }{ 2\\sigma^2 } }\n",
    "\\tag{9}\n",
    "$$\n",
    "</span></div>"
   ]
  },
  {
   "cell_type": "markdown",
   "metadata": {},
   "source": []
  },
  {
   "cell_type": "code",
   "execution_count": null,
   "metadata": {
    "collapsed": true
   },
   "outputs": [],
   "source": []
  }
 ],
 "metadata": {
  "anaconda-cloud": {},
  "kernelspec": {
   "display_name": "Python [conda root]",
   "language": "python",
   "name": "conda-root-py"
  },
  "language_info": {
   "codemirror_mode": {
    "name": "ipython",
    "version": 2
   },
   "file_extension": ".py",
   "mimetype": "text/x-python",
   "name": "python",
   "nbconvert_exporter": "python",
   "pygments_lexer": "ipython2",
   "version": "2.7.12"
  }
 },
 "nbformat": 4,
 "nbformat_minor": 2
}
