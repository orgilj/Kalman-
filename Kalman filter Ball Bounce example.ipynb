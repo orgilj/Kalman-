{
 "cells": [
  {
   "cell_type": "markdown",
   "metadata": {},
   "source": [
    "<div style=\"text-align: center\"> \n",
    "<span style=\"color:dark;font-family: Times New Roman; font-size: 2em;\">\n",
    "Kalman filter Ball Bounce example\n",
    "</span></div>"
   ]
  },
  {
   "cell_type": "markdown",
   "metadata": {
    "raw_mimetype": "text/markdown"
   },
   "source": [
    "<div style=\"text-align: justify\"> \n",
    "<span style=\"color:blue;font-family: Times New Roman; font-size: 1.3em;\">\n",
    "Та бүхэндээ энэ өдрийн мэнд хүргэе. Саяхан болсон явдалаас урьд нь ойлгох гээд орхисон байсан асуудлыг шийдэхээр энэхүү Python 2.7.14 болон Opencv 3.0.0 - ий Kalman шүүрээр хөөрч буй бөмбөгний ойлтыг тооцоолох жишээг хийхээр шийдлээ. Энэхүү жишээгээр бид ойж буй бөмбөгийг тойрог дүрсээр төлөөлүүлэн түүнд шуугиан нэмж оруулах ба үүний дараа уг шуугиантай бөмбөгний ойлтыг Kalman - ий шүүрээр шүүх юм. Уг шүүрийг хэрэглэхдээ бид түүний онолын мэдлэгийг дадлагатай холбон давхар сурах ба түүнийгээ цааш үргэлжлүүлэн өргөтгөж өөр хэлбэрийн жишээ нь дроны тогтворжилт түүнтэй ижил бусад тогтвортой системийг тооцоолох боломжийг олгох юм. За ингээд Kalman шүүрийн онолтой танилья.\n",
    "\n",
    "</span></div>\n",
    "\n"
   ]
  },
  {
   "cell_type": "markdown",
   "metadata": {},
   "source": [
    "<div style=\"text-align: center\"> \n",
    "<span style=\"color:dark;font-family: Times New Roman; font-size: 2em;\">\n",
    "Kalman Filter\n",
    "</span></div>"
   ]
  },
  {
   "cell_type": "markdown",
   "metadata": {},
   "source": [
    "<div style=\"text-align: justify\"> \n",
    "<span style=\"color:blue;font-family: Times New Roman; font-size: 1.3em;\">\n",
    "Kalman шүүлтүүрийг зарим нэг хувьсан өөрчлөгддөг (динамик) системийн тухай тодорхой мэдээлэлтэй үед хэрэглэж болох ба системийн дараагийн хийх гэж байгаа үйлдлийн талаар нь боловсруулсан таамаглалыг гаргаж болдог. Бодит байдал дээр бидний боловсруулах мэдээлэл эмх замбараагүй дараалалын (шуугианы) хамт орж ирдэг ба үүнийг Kalman шүүлтүүрээр шүүн үнэн хэрэгтээ ямар мэдээлэл байгааг мэдэж болно. Мөн их хэмжээний өмнөх төлөвийг хадгалах санах ой шаардахгүйгээр хурдан боловсруулалт хийдэг давуу талтай болохоор Kalman шүүлтүүрийг тасралтгүй өөрчлөгдөж байдаг бодит системийн тооцооллын хувьд хамгийн тохиромжтой. Kalman шүүлтүүрийн математик хэлбэрүүдийг бид Google - ээс олж болох ба энэ хэтэрхий хүнд мэт санагдах байх. Иймээс бүгдээрээ тэдгээр математик хэлбэрийн томъёонуудыг дэс дараалалтайгаар үзвэл Kalman шүүлтүүр нь үнэндээ энгийн ба ойлгох зөв аргаа олох хэрэгтэй. Үүний тулд танд бага зэргийн магадлалын болон матрицийн үндсэн ойлголт байхад хангалттай.\n",
    "\n",
    "</span></div>\n",
    "\n",
    "\n"
   ]
  },
  {
   "cell_type": "markdown",
   "metadata": {},
   "source": [
    "<div style=\"text-align: center\"> \n",
    "<span style=\"color:dark;font-family: Times New Roman; font-size: 2em;\">\n",
    "Kalman Filter юу хийж чадах вэ?\n",
    "</span></div>"
   ]
  },
  {
   "cell_type": "markdown",
   "metadata": {},
   "source": [
    "<div style=\"text-align: justify\"> \n",
    "<span style=\"color:blue;font-family: Times New Roman; font-size: 1.3em;\">\n",
    "Жишээ авч үзье: Та ой дунд явдаг робот бүтээсэн гэж бодъё. Тэгвэл роботын байршлыг зөв мэдсэнээр түүнийг жолоодох боломжтой болох юм. Роботын төлвийн мэдээллийг \n",
    "$\n",
    "\\overrightarrow{x}_{(k)} \\\\\n",
    "$ \n",
    "түүний байршил болон хурдаар бичвэл: \n",
    "$$\n",
    "\\overrightarrow{x}_{(k)} = (\\overrightarrow{p},\\overrightarrow{v}) \\\\\n",
    "$$ Нэмж хэлхэд төлвийн мэдээлэл нь зүгээр л үндсэн мэдээллийн тоо бөгөөд энэ нь юу ч байж болно. Энэ нь таны тооцоолох гэж байгаа системтэй холбоотой мэдээллүүд байна. Жишээ нь: шингэн савны температур эсвэл машины моторын хэмжээ гэх мэт таны тооцоолон олох гэж байгаа ямар нэг системийн тоо юм.\n",
    "\n",
    "Бидний робот 10метрийн нарийвчлалтай GPS - тэй бөгөөд энэ нь ой модонд явж байгаа роботын хувьд хэдэн метр алдахад л робот хаднаас унах гэх мэт эрсдэл гарах боломжтой болохоор ганцхан GPS хангалтгүй. Мөн бид робот хэрхэн хөдөлдөг тухай мэдэх хэрэгтэй: дугуйны мотор нь илгээсэн тушаалуудын дагуу хөдөлдөг бөгөөд тухайн чиглэлд саадгүй байвал дараагын агшинд тэр чиглэлд хөдөлгөөнөө үргэлжлүүлж байх магадлалтай юм. Гадны олон төрлийн нөлөө жишээ нь салхи, дугуйны бага зэргийн халтиргаа эсвэл донсолгоотой газар нутаг дээр өнхрөх гэх мэт шалтгаанаас болж бид дараагын агшинд робот хэр хол явсан, хаана байхыг яг таамаглан мэднэ гэсэн үг биш юм. GPS мэдрэгч нь төлвийн талаар бага мэдээллийг шууд бусаар алдаатай болон тодорхойгүйгээр мэдээлнэ. Бидний таамаглал ч бас бидэнд робот хэрхэн хөдөлж байгаа тухай мэдээллийг шууд бусаар алдаатай болон тодорхойгүйгээр мэдээлнэ. Хэрэв бидэнд бүх мэдээлэл байх юм бол бид илүү дээр таамаглалын мэдээлэл гарган авч болно. \n",
    "\n",
    "</span></div>\n",
    "\n"
   ]
  },
  {
   "cell_type": "markdown",
   "metadata": {},
   "source": [
    "<div style=\"text-align: center\"> \n",
    "<span style=\"color:dark;font-family: Times New Roman; font-size: 2em;\">\n",
    "Kalman шүүлтүүр таны асуудлыг хэрхэн хардаг вэ?\n",
    "</span></div>"
   ]
  },
  {
   "cell_type": "markdown",
   "metadata": {},
   "source": [
    "<div style=\"text-align: justify\"> \n",
    "<span style=\"color:blue;font-family: Times New Roman; font-size: 1.3em;\">\n",
    "Газрын зургыг харан тайлбарлах гэж оролдоё. Бидэнд байгаа энгийн байршил болон хурдны төлвийн мэдээллээр цааш үргэлжлүүлье.\n",
    "$$\n",
    "\\overrightarrow{x}_{(k)} = \\left(\\begin{array}{cc} p \\\\ v \\end{array}\\right) \\\\\n",
    "$$\n",
    "Бид яг үнэндээ байрлал болон хурдны мэдээллийн зөв утгыг мэдэхгүй байгаа. Байрлал болон хурдны хослолын бүх л хүрээнд бидний хайж байгаа утга байх магадлалтай бөгөөд тэдний зарим арай илүү үнэнд дөхсөн байна.\n",
    "\n",
    "</span></div>\n",
    "\n"
   ]
  },
  {
   "cell_type": "markdown",
   "metadata": {},
   "source": [
    "\n",
    "![alt text](images/gauss_0.png)\n"
   ]
  },
  {
   "cell_type": "markdown",
   "metadata": {
    "collapsed": false
   },
   "source": [
    "<div style=\"text-align: justify\"> \n",
    "<span style=\"color:blue;font-family: Times New Roman; font-size: 1.3em;\">\n",
    "Kalman шүүлтүүр аль аль нь хувьсагчуудыг (байрлал болон хурд) санамсаргүй болон Гауссын тархалттай гэж үздэг. Хувьсагч бүрд санамсаргүй тархалтын дунд байрлах дундаж утга \n",
    "$\n",
    "\\mu\n",
    "$ болон өөрчлөлт \n",
    "$\n",
    "\\sigma^2\n",
    "$\n",
    "\n",
    "</span></div>"
   ]
  },
  {
   "cell_type": "markdown",
   "metadata": {
    "collapsed": true
   },
   "source": [
    "\n",
    "![alt text](images/gauss_1.png)\n"
   ]
  },
  {
   "cell_type": "markdown",
   "metadata": {},
   "source": [
    "<div style=\"text-align: justify\"> \n",
    "<span style=\"color:blue;font-family: Times New Roman; font-size: 1.3em;\">\n",
    "Дээрх зургаас харахад байршил болон хурдны аль нэг хувьсагч нь нөгөө нэгэнтэйгээ хамааралгүй болж байна. Доорх зурагт арай сонирхолтой буюу байршил болон хурд нь хоорондоо хамааралтай харагдаж байна. \n",
    "\n",
    "</span></div>"
   ]
  },
  {
   "cell_type": "markdown",
   "metadata": {},
   "source": [
    "\n",
    "![alt text](images/gauss_3.png)\n"
   ]
  },
  {
   "cell_type": "markdown",
   "metadata": {},
   "source": [
    "<div style=\"text-align: justify\"> \n",
    "<span style=\"color:blue;font-family: Times New Roman; font-size: 1.3em;\">\n",
    "Жишээ нь, бид хуучин утганд тулгуурлан шинэ байрлал тооцох нөхцөлд дараах байдлаар гарч болох юм. Хэрвээ бидний хурд өндөр байх юм бол магадгүй бид хол явсан байна. Эсрэгээрээ роботын хурд удаан байсан бол тийм ч холдоогүй байна. Энэ хамаарал нь нэг хэмжилтээс бидэнд бусад нь ямар байж болох талаар хэлж илүү их мэдээлэл өгдөг учраас мөрдөхөд чухал юм. Бид тодорхой бус хэмжилтээс аль болох их мэдээллийг хүсдэг.\n",
    "</span></div>\n",
    "<div style=\"text-align: justify\"> \n",
    "<span style=\"color:blue;font-family: Times New Roman; font-size: 1.3em;\">\n",
    "Энэхүү хамаарлыг бид \n",
    "[covariance matrix](https://en.wikipedia.org/wiki/Covariance_matrix)\n",
    "гэдэг. Товчхондоо $\\sum_{ij}$ матрицийн элемент бүр нь i дүгээр болон j дугаар төлвийн хувьсагчдын утгуудын хоорондын хамаарлын өнцөг байна. Covariance-ийн матриц нь тэгш хэмтэй буюу $i j$  хоёрыг хооронд нь солиход асуудалгүй. Covariance-ийн матрицыг ихэвчилэн $\\sum$ гэж тэмдэглэдэг болохоор түүний элементийг $\\sum_{ij}$ гэдэг.\n",
    "</span></div>"
   ]
  },
  {
   "cell_type": "markdown",
   "metadata": {
    "collapsed": true
   },
   "source": [
    "\n",
    "![alt text](images/gauss_2.png)\n"
   ]
  },
  {
   "cell_type": "markdown",
   "metadata": {},
   "source": [
    "<div style=\"text-align: center\"> \n",
    "<span style=\"color:dark;font-family: Times New Roman; font-size: 2em;\">\n",
    "Матрицаар асуудлыг тодорхойлох\n",
    "</span></div>"
   ]
  },
  {
   "cell_type": "markdown",
   "metadata": {},
   "source": [
    "<div style=\"text-align: justify\"> \n",
    "<span style=\"color:blue;font-family: Times New Roman; font-size: 1.3em;\">\n",
    "Төлвийн Гауссын гадаргуугын  талбайн мэдлэгээр бид загварчилна. Иймээс бидэнд тухайн хугацаа k буюу бидний хамгийн сайн тооцоолол \n",
    "$\n",
    "\\hat{x}_k\n",
    "$ (дундаж) ба түүний Covariance-ийн матриц \n",
    "$\n",
    "P_k\n",
    "$ гэсэн 2 хэсэг мэдээлэл хэрэгтэй.\n",
    "$$\n",
    "\\overrightarrow{x}_{k} = \\left[\\begin{array}{cc} position \\\\ velocity \\end{array}\\right] \\\\\n",
    "$$\n",
    "$$\n",
    "P_{k} = \\left[\\begin{array}{cc} \\sum_{pp}&\\sum_{pv} \\\\ \\sum_{vp}&\\sum_{vv} \\end{array}\\right] \\tag{1} \\\\\n",
    "$$\n",
    "Энд мэдээж ямар ч тооны ямар ч хувьсагч ашиглаж болох ба бидний жишээн дээр байрлал болон хурдыг тодорхойлох нь ашигтай юм.  Дараа нь бид одоогийн төлвөөс (k-1 хугацаанд)  дараагийн таамаглалын төлөв k хугацааг хайх хэрэгтэй. Сануулахад, бид одоогийн төлвийн бодит утга яг аль нь вэ гэдгийг мэдэхгүй байна. Гэвч энэ нь таамаглах функцэд хамаагүй юм. Энэ нь зөвхөн бүгдэн дээр нь ажилладаг.\n",
    "</span></div>"
   ]
  },
  {
   "cell_type": "markdown",
   "metadata": {},
   "source": [
    "\n",
    "![alt text](images/gauss_7.jpg)\n"
   ]
  },
  {
   "cell_type": "markdown",
   "metadata": {},
   "source": [
    "<div style=\"text-align: justify\"> \n",
    "<span style=\"color:blue;font-family: Times New Roman; font-size: 1.3em;\">\n",
    "Ингэснээр бид таамаглах алхамын матрицыг $F_k$-аар төлөөлүүлнэ.\n",
    "</span></div>"
   ]
  },
  {
   "cell_type": "markdown",
   "metadata": {},
   "source": [
    "\n",
    "![alt text](images/gauss_8.jpg)\n"
   ]
  },
  {
   "cell_type": "markdown",
   "metadata": {},
   "source": [
    "\n",
    "<div style=\"text-align: justify\"> \n",
    "<span style=\"color:blue;font-family: Times New Roman; font-size: 1.3em;\">\n",
    "\n",
    "Цэг бүрийн эх тооцоолол болон хэрэв эх тооцоолол зөв бол хаана систем шилжсэн байж болох талаар шинэ байршил руу шилжүүлэх таамагллыг гаргаж авдаг. \n",
    "Үүнийг хэрэгжүүлье. Цаашид дараагийн агшинд байрлал, хурдыг таамаглах матрицыг бид хэрхэн ашиглах вэ? Бид kinematic-ийн үндсэн томъёог ашиглаж болно.\n",
    "$$\n",
    "p_k = \\left[\\begin{array}{cc} p_{k-1}+dt*v_{k-1} \\end{array}\\right] \\\\\n",
    "$$\n",
    "$$\n",
    "v_{k} = \\left[\\begin{array}{cc} & & & & v_{k-1}\\end{array}\\right] \\\\\n",
    "$$\n",
    "Өөрөөр хэлбэл:\n",
    "$$\n",
    "\\color{red}{\\hat{x}_{k}}\\color{black} = \\left[\\begin{array}{cc} 1 & dt \\\\ 0 & 1 \\end{array}\\right]\\hat{x}_{k-1} \\tag{2}\\\\\n",
    "$$\n",
    "$$\n",
    "= F_k \\hat{x}_{k-1}  \\tag{3}\n",
    "$$\n",
    "</span></div>\n",
    "\n",
    "\n"
   ]
  },
  {
   "cell_type": "markdown",
   "metadata": {},
   "source": [
    "\n",
    "<div style=\"text-align: justify\"> \n",
    "<span style=\"color:blue;font-family: Times New Roman; font-size: 1.3em;\">\n",
    "Одоо бид дараагийн төлвийг өгдөг таамаглах матрицтай боллоо. Гэвч одоог болтол covariace-ийн матрицыг хэрхэн шинэчилэхийг мэдэхгүй байна.\n",
    "Тиймээс бидэнд шинэ томъёо хэрэгтэй. Хэрвээ бид тархалтын бүх цэг бүрийг $A$ матрицаар үржүүлвэл, тэгвэл covariace-ийн матриц \n",
    "$\n",
    "\\sum\n",
    "$ яах вэ гэвэл дараах хэлбэртэй болно.\n",
    "$$ \n",
    "Cov{(x)}=\\sum \\tag{4}\n",
    "$$\n",
    "$$ \n",
    "Cov{(\\color{red}{A} \\color{black}{x} )}=\\color{red}{A} \\color{black}{\\sum}  \\color{red}{A^T}  \n",
    "$$\n",
    "Томъёо 4, 3 хоёрыг нийлүүлж бичвэл:\n",
    "$$\n",
    "\\begin{array}{cc} \\color{red}{\\hat{x}_{k}}\\color{black} =  F_k \\hat{x}_{k-1} \\\\ \\color{red}{P_k}  =\\color{red}{F_k} \\color{black}{P_{k-1}}  \\color{red}{F_k^T}\\end{array}  \\tag{5}\\\\\n",
    "$$\n",
    "</span></div>"
   ]
  },
  {
   "cell_type": "markdown",
   "metadata": {},
   "source": [
    "<div style=\"text-align: center\"> \n",
    "<span style=\"color:dark;font-family: Times New Roman; font-size: 2em;\">\n",
    "Гадаад нөлөө\n",
    "</span></div>"
   ]
  },
  {
   "cell_type": "markdown",
   "metadata": {
    "collapsed": true
   },
   "source": [
    "\n",
    "<div style=\"text-align: justify\"> \n",
    "<span style=\"color:blue;font-family: Times New Roman; font-size: 1.3em;\">\n",
    "Бид бүх зүйлийн талаар тооцоолоогүй байна. Төлвөөс үл хамаарах зарим нэг гадаад ертөнцийн системд нөлөөлөх нөлөө байж болох юм. Жишээ нь, хэрэв галт тэрэгний хөдөлгөөний төлвийн загварт оператор тохируулагч дээр дарснаар вагоныг хурдасгадаг. Үүнтэй нэгэн адил бидний роботын жишээн дээр жолоодох програм хангамж нь арааг эргүүлэх эсвэл зогсоох командыг гаргаж болно. Хэрвээ бид гадаад ертөнцөд юу болж байгаа талаар нэмэлт мэдээлэлтэй бол бид \n",
    "$\n",
    "u_k\n",
    "$ \n",
    "векторт оруулснаар урьдчилан таамаглахыг залруулж болох юм. \n",
    "<p>Бид хүлээгдэж буй\n",
    "$\n",
    "a\n",
    "$ хурдатгалыг мэдсэнээр тохируулж эсвэл удирдаж болно. Үндсэн kinematic-аас дараах томъёог гаргаж болно.\n",
    "$$\n",
    "p_k = \\left[\\begin{array}{cc} p_{k-1}+dt*v_{k-1}+\\frac{1}{2}adt^2 \\end{array}\\right] \\\\\n",
    "$$\n",
    "$$\n",
    "v_{k} = \\left[\\begin{array}{cc} & & & & v_{k-1}+adt\\end{array}\\right] \\\\\n",
    "$$\n",
    "Матриц хэлбэрээр:\n",
    "$$\n",
    "\\begin{array}{cc} \\color{red}{\\hat{x}_{k}}\\color{black} =  F_k \\hat{x}_{k-1} + \\left[\\begin{array}{cc} \\frac{dt^2}{2} \\\\ dt \\end{array}\\right]a \\\\  =\\color{red}{F_k} \\color{black}{\\hat{x}_{k-1}} + B_k \\overrightarrow{u}_{k} \\end{array}  \\tag{6}\\\\\n",
    "$$\n",
    "$B_k$ бол удирдлагын матриц, $u_k$ удирдлагын вектор юм. (Гадны нөлөөгүй энгийн системд та үүнийг орхиж болно) Бидний загвар 100% үнэн таамаглаж чадахгүй бол юу болох вэ?\n",
    "</span></div>"
   ]
  },
  {
   "cell_type": "markdown",
   "metadata": {},
   "source": [
    "<div style=\"text-align: center\"> \n",
    "<span style=\"color:dark;font-family: Times New Roman; font-size: 2em;\">\n",
    "Гадаад тодорхой бус байдал\n",
    "</span></div>\n"
   ]
  },
  {
   "cell_type": "markdown",
   "metadata": {},
   "source": [
    "<div style=\"text-align: justify\"> \n",
    "<span style=\"color:blue;font-family: Times New Roman; font-size: 1.3em;\">\n",
    "Хэрэв төлөв өөрийн үндсэн үзүүлэлтүүдэд тулгуурласан бол бүгд зүгээр. Төлөв нь яг ямар гадаад хүч хэр хэмжээгээр нөлөөлж буйг мэдэх хүртэл бүх зүйл хэвийн бус байна. Жишээ нь, хэрэв бид quadcopter мөрдөж байгаа тохиолдолд салхинд цохиулж болно. Хэрэв бид дугуйтай робот мөрдөж байвал дугуй хий эргэх болон газарт шигдэж сууж болно. Эдгээрийн аль нэг нь тохиолдвол бид эдгээр зүйлсийг гадаад хүчний нөлөөг тооцоолоогүйн улмаас бидний таамаглал алга болж мөрдөж чадахгүй болно. Хувирамтгай байдалтай холбогдсон дэлхийд таамаглал бүрийн дараа бид шинэ хувирамтгай чанарыг нэмэснээр загварчилж чадна.\n",
    "</span></div>"
   ]
  },
  {
   "cell_type": "markdown",
   "metadata": {},
   "source": [
    "![alt text](images/gauss_9.jpg)"
   ]
  },
  {
   "cell_type": "markdown",
   "metadata": {},
   "source": [
    "<div style=\"text-align: justify\"> \n",
    "<span style=\"color:blue;font-family: Times New Roman; font-size: 1.3em;\">\n",
    "Төлөв бүр тооцооллын дараа төлвийн хүрээний дагуу шилжсэн байна.  $\n",
    "x_{k-1}\n",
    "$ цэг бүр Гауссын хамрах хүрээ, covariance \n",
    "$\n",
    "Q_k\n",
    "$ дотор хаа нэгтээ шилжинэ. Үүнийг өөрөөр хэлбэл covariance \n",
    "$\n",
    "Q_k\n",
    "$ шуугианыг засна гэж үзэж болно.\n",
    "</span></div>\n"
   ]
  },
  {
   "cell_type": "markdown",
   "metadata": {
    "collapsed": true
   },
   "source": [
    "![alt text](images/gauss_10a.jpg)"
   ]
  },
  {
   "cell_type": "markdown",
   "metadata": {},
   "source": [
    "<div style=\"text-align: justify\"> \n",
    "<span style=\"color:blue;font-family: Times New Roman; font-size: 1.3em;\">\n",
    "Энэ нь ижил дундаж цэгтэй өөр covariance - тай шинэ Гауссын хамрах хүрээг гаргадаг.\n",
    "</span></div>"
   ]
  },
  {
   "cell_type": "markdown",
   "metadata": {},
   "source": [
    "![alt text](images/gauss_10b.jpg)"
   ]
  },
  {
   "cell_type": "markdown",
   "metadata": {},
   "source": [
    "<div style=\"text-align: justify\"> \n",
    "<span style=\"color:blue;font-family: Times New Roman; font-size: 1.3em;\">\n",
    "Бид covariance - ийг \n",
    "$\n",
    "Q_k\n",
    "$ \n",
    " - г нэмж өргөтгөснөөр таамаглалын бүрэн илэрхийлэлтэй болно.\n",
    "\\begin{equation} \n",
    "\\begin{split} \n",
    "\\color{deeppink}{\\mathbf{\\hat{x}}_k} & = \\mathbf{F}_k \\color{royalblue}{\\mathbf{\\hat{x}}_{k-1}} + \\mathbf{B}_k \\color{darkorange}{\\vec{\\mathbf{u}_k}} \\\\ \n",
    "\\color{deeppink}{\\mathbf{P}_k} & = \\mathbf{F_k} \\color{royalblue}{\\mathbf{P}_{k-1}} \\mathbf{F}_k^T + \\color{mediumaquamarine}{\\mathbf{Q}_k} \n",
    "\\end{split} \n",
    "\\label{kalpredictfull} \n",
    "\\end{equation}\n",
    "\n",
    "Өөрөөр хэлбэл хамгийн сайн таамаглалын тооцоолол бол өмнөх төлвийн сайн тооцоолол дээр мэдэгдэж буй гадаад нөлөөллийн утгыг нэмж засвар хийснээр гардаг. Мөн хуучин тодорхойгүй байдал дээр гадны орчны тодорхойгүй байдлын утгыг нэмснээр шинэ тодорхойгүй байдлын утга гардаг. Бидэнд өгөгдсөн \n",
    "$\n",
    "x_k\n",
    "$\n",
    "болон \n",
    "$\n",
    "P_k\n",
    "$ \n",
    "- аар бидний систем хаана байж болох талаар ойлгомжтой тооцоотой байна. Тэгвэл мэдрэгч зарим мэдээллийг авах буюу утга тасалдах үед яах вэ?\n",
    "</span></div>"
   ]
  },
  {
   "cell_type": "markdown",
   "metadata": {},
   "source": [
    "<div style=\"text-align: center\"> \n",
    "<span style=\"color:dark;font-family: Times New Roman; font-size: 2em;\">\n",
    "Хэмжилтийн тооцооллыг боловсронгуй болгох\n",
    "</span></div>"
   ]
  },
  {
   "cell_type": "markdown",
   "metadata": {},
   "source": [
    "<div style=\"text-align: justify\"> \n",
    "<span style=\"color:blue;font-family: Times New Roman; font-size: 1.3em;\">\n",
    "Системийн төлвийн талаар мэдээлэл өгөх хэд хэдэн мэдрэгчүүдтэй байж болно. Тодорхой хугацаанд эдгээр мэдрэгчүүд нь юу хэмжих нь хамаагүй юм. Магадгүй нэг нь байрлал нөгөө нэг нь хурд хэмжиж байж болно. Мэдрэгчүүд нь бидэнд төлвийн талаар шууд бусаар мэдээлж байдаг. Өөрөөр хэлбэл мэдрэгчүүд нь төлөв болон мэдээлэл унших тал дээр ажилладаг юм.\n",
    "</span></div>"
   ]
  },
  {
   "cell_type": "markdown",
   "metadata": {},
   "source": [
    "![alt text](images/gauss_12.jpg)"
   ]
  },
  {
   "cell_type": "markdown",
   "metadata": {},
   "source": [
    "<div style=\"text-align: justify\"> \n",
    "<span style=\"color:blue;font-family: Times New Roman; font-size: 1.3em;\">\n",
    "Нэмж хэлэхэд мэрдэгчүүдийн уншсан мэдээллийн нэгжүүд өөр өөр байж болох бөгөөд тэдгээрийг бид ижил нэгжтэй болгосноор цааш үргэлжлүүлнэ. Мэдрэгчийг \n",
    "$\n",
    "\\mathbf{H}_k\n",
    "$\n",
    "матриц болгон загварчилснаар бид хаашаа явж буйг таах боломжтой байж болох юм.\n",
    "</span></div>"
   ]
  },
  {
   "cell_type": "markdown",
   "metadata": {},
   "source": [
    "![alt text](images/gauss_13.jpg)"
   ]
  },
  {
   "cell_type": "markdown",
   "metadata": {},
   "source": [
    "<div style=\"text-align: justify\"> \n",
    "<span style=\"color:blue;font-family: Times New Roman; font-size: 1.3em;\">\n",
    "Бид мэдрэгчийн заалтын хуваарилалтын зургыг энгийн байдлаар харж болно. \n",
    "\\begin{equation} \n",
    "\\begin{aligned} \n",
    "\\vec{\\mu}_{\\text{expected}} &= \\mathbf{H}_k \\color{deeppink}{\\mathbf{\\hat{x}}_k} \\\\ \n",
    "\\mathbf{\\Sigma}_{\\text{expected}} &= \\mathbf{H}_k \\color{deeppink}{\\mathbf{P}_k} \\mathbf{H}_k^T \n",
    "\\end{aligned} \n",
    "\\tag{8}\n",
    "\\end{equation}\n",
    "Нэг үгээр хэлбэл Kalman шүүр нь мэдрэгчийн шуугианд хамгийн сайн тохирдог.\n",
    "</span></div>\n"
   ]
  },
  {
   "cell_type": "markdown",
   "metadata": {},
   "source": [
    "![alt text](images/gauss_14.jpg)"
   ]
  },
  {
   "cell_type": "markdown",
   "metadata": {},
   "source": [
    "<div style=\"text-align: justify\"> \n",
    "<span style=\"color:blue;font-family: Times New Roman; font-size: 1.3em;\">\n",
    "Мэдээлэл унших ажиглалтаас эхлэн бидний систем тодорхой төлөвт байна гэж үзэж болно. Гэвч тодорхой бус байдлаас болж зарим төлвүүд нь бидний харж буйтай адилхан байх магадлалтай байдаг:\n",
    "</span></div>\n"
   ]
  },
  {
   "cell_type": "markdown",
   "metadata": {},
   "source": [
    "![alt text](images/gauss_11.jpg)"
   ]
  },
  {
   "cell_type": "markdown",
   "metadata": {},
   "source": [
    "<div style=\"text-align: justify\"> \n",
    "<span style=\"color:blue;font-family: Times New Roman; font-size: 1.3em;\">\n",
    "Энэхүү тодорхойгүй байдлыг бид covariance гэдэг.(өөрөөр мэдрэгчийн шуугиан) \n",
    "$\n",
    "R_k\n",
    "$. Тархалт нь \n",
    "$\n",
    "\\overrightarrow{z}_{k}\n",
    "$\n",
    "гэдэг хэмжилтийн дундаж утгатай.\n",
    "Эндээс бид хоёр Гауссын хамрах хүрээтэй болно. Нэг нь дундаж таамаглалын өөрчлөлт, нөгөө нэг нь бидний мэдрэгчээс уншиж авсан мэдээлэл.\n",
    "</span></div>"
   ]
  },
  {
   "cell_type": "markdown",
   "metadata": {},
   "source": [
    "![alt text](images/gauss_4.jpg)"
   ]
  },
  {
   "cell_type": "markdown",
   "metadata": {},
   "source": [
    "<div style=\"text-align: justify\"> \n",
    "<span style=\"color:blue;font-family: Times New Roman; font-size: 1.3em;\">\n",
    "Бид одоо таамагласан төлөв (ягаан хэсэг) болон мэдрэгчээс уншиж авсан мэдээлэл (ногоон хэсэг) хоёрыг нэгтгэх хэрэгтэй.\n",
    "Үүний үр дүнд эдгээр хоёр тархалтын давхцлын хэсгийг авах хэрэгтэй буюу \n",
    "$\n",
    "(z_1,z_2)\n",
    "$\n",
    " - г унших боломжит хоёр хэмжилтийн магадлал байна: (1) \n",
    "$\n",
    "(z_1,z_2)\n",
    "$\n",
    "утгуудыг\n",
    "$\n",
    "\\overrightarrow{z}_{k}\n",
    "$\n",
    "мэдрэгчийн утгыг уншиж авах болон (2) өмнөх төлвөөс тооцоолсон магадлал\n",
    "$\n",
    "(z_1,z_2)\n",
    "$\n",
    "<p>\n",
    "Ингээд бид хоёр үнэн байх магадлалтай утгатай болсон бөгөөд эдгээрийн аль аль нь үнэн байх магадлалтай учраас тэдгээрийн Гауссын тархалтын хамрах хүрээнүүдийг хооронд нь үржүүлнэ.\n",
    "</span></div>"
   ]
  },
  {
   "cell_type": "markdown",
   "metadata": {},
   "source": [
    "![alt text](images/gauss_6a.png)"
   ]
  },
  {
   "cell_type": "markdown",
   "metadata": {},
   "source": [
    "<div style=\"text-align: justify\"> \n",
    "<span style=\"color:blue;font-family: Times New Roman; font-size: 1.3em;\">\n",
    "Хоёр хамрах хүрээний давхцалын муж нь илүү тод буюу үнэнд илүү дөхсөн тооцооллын утга байна. Энэ тархалтын давхцалын мужийн дундаж нь хэмжилт болон таамаглалын тооцоонуудад хамгийн их ойртсон байх магадлалтай ба энэхүү зөв тохиргооноос хамгийн шилдэг таамаглалыг бидэнд гаргаж өгнө.\n",
    "<p>\n",
    "Доорхи зурагаар шинэ Гауссын хамрах хүрээг дүрслэв.\n",
    "</span></div>"
   ]
  },
  {
   "cell_type": "markdown",
   "metadata": {},
   "source": [
    "![alt text](images/gauss_6.png)"
   ]
  },
  {
   "cell_type": "markdown",
   "metadata": {},
   "source": [
    "<div style=\"text-align: justify\"> \n",
    "<span style=\"color:blue;font-family: Times New Roman; font-size: 1.3em;\">\n",
    "Гауссын хамрах хүрээнүүдийг өөр өөр дундаж утга болон covariance матрицийн хамт үржүүлэхэд, энэ нь шинэ Гауссын хамрах хүрээ болон өөрийн дундажтай covariance матриц үүснэ. Эндээс хуучин параметрүүдээс шинэ параметр гаргадаг томъёо оршин байх уу?\n",
    "</span></div>"
   ]
  },
  {
   "cell_type": "markdown",
   "metadata": {},
   "source": [
    "<div style=\"text-align: center\"> \n",
    "<span style=\"color:dark;font-family: Times New Roman; font-size: 2em;\">\n",
    "Гауссуудыг хослуулах\n",
    "</span></div>"
   ]
  },
  {
   "cell_type": "markdown",
   "metadata": {},
   "source": [
    "<div style=\"text-align: justify\"> \n",
    "<span style=\"color:blue;font-family: Times New Roman; font-size: 1.3em;\">\n",
    "Тэгэхлээр бид тэрхүү томъёог хайя. Эхлээд бид нэг хэмжээст гэж үзвэл хялбар байна. \n",
    "$\n",
    "\\sigma^2\n",
    "$\n",
    "өөрчлөлттэй\n",
    "$\n",
    "\\mu\n",
    "$\n",
    "дундажтай 1D Гауссын муруйн хувьд:\n",
    "$$\n",
    "\\mathcal{N}(x, \\mu,\\sigma) = \\frac{1}{ \\sigma \\sqrt{ 2\\pi } } e^{ -\\frac{ (x - \\mu)^2 }{ 2\\sigma^2 } }\n",
    "\\tag{9}\n",
    "$$\n",
    "<p>\n",
    "Хоёр Гауссын муруйг хоорондын үржвэрийг доорхи зурагт үзүүлэв.\n",
    "</span></div>"
   ]
  },
  {
   "cell_type": "markdown",
   "metadata": {},
   "source": [
    "![alt text](images/gauss_joint.png)"
   ]
  },
  {
   "cell_type": "markdown",
   "metadata": {},
   "source": [
    "<div style=\"text-align: justify\"> \n",
    "<span style=\"color:blue;font-family: Times New Roman; font-size: 1.3em;\">\n",
    "$$\n",
    "\\mathcal{N}(x, \\color{fuchsia}{\\mu_0}, \\color{deeppink}{\\sigma_0}) \\cdot \\mathcal{N}(x, \\color{yellowgreen}{\\mu_1}, \\color{mediumaquamarine}{\\sigma_1}) \\stackrel{?}{=} \\mathcal{N}(x, \\color{royalblue}{\\mu'}, \\color{mediumblue}{\\sigma'}) \n",
    "$$\n",
    "</span></div>"
   ]
  },
  {
   "cell_type": "markdown",
   "metadata": {},
   "source": [
    "<div style=\"text-align: justify\"> \n",
    "<span style=\"color:blue;font-family: Times New Roman; font-size: 1.3em;\">\n",
    "Томъёо 9 - г томъёо 10 - д орлуулж математик эмхтгэл хийснээр дараах томъёог гарган авч болно. (энд магадлалын нийлбэр 1 байхыг анхаарна уу.)\n",
    "\n",
    "</span></div>"
   ]
  },
  {
   "cell_type": "markdown",
   "metadata": {},
   "source": [
    "\\begin{equation} \n",
    "\\label{fusionformula} \n",
    "\\begin{aligned} \n",
    "\\color{royalblue}{\\mu'} & = \\mu_0 + \\frac{\\sigma_0^2 (\\mu_1 - \\mu_0)} {\\sigma_0^2 + \\sigma_1^2} \\\\ \n",
    "\\color{mediumblue}{\\sigma'}^2 & = \\sigma_0^2 - \\frac{\\sigma_0^4} {\\sigma_0^2 + \\sigma_1^2} \n",
    "\\end{aligned} \n",
    "\\end{equation}"
   ]
  },
  {
   "cell_type": "markdown",
   "metadata": {},
   "source": [
    "<div style=\"text-align: justify\"> \n",
    "<span style=\"color:blue;font-family: Times New Roman; font-size: 1.3em;\">\n",
    "Бид \n",
    "$\n",
    "\\color{purple}{\\mathbf{k}}\n",
    "$ - г орлуулан эмхтгэвэл дараах тэгшитгэл гарна.\n",
    "$$\n",
    "\\color{purple}{\\mathbf{k}} = \\frac{\\sigma_0^2}{\\sigma_0^2 + \\sigma_1^2} \n",
    "$$\n",
    "</span></div>"
   ]
  },
  {
   "cell_type": "markdown",
   "metadata": {},
   "source": [
    "\\begin{equation} \n",
    "\\begin{split} \n",
    "\\color{royalblue}{\\mu'} &= \\mu_0 + &\\color{purple}{\\mathbf{k}} (\\mu_1 - \\mu_0)\\\\ \n",
    "\\color{mediumblue}{\\sigma'}^2 &= \\sigma_0^2 - &\\color{purple}{\\mathbf{k}} \\sigma_0^2 \n",
    "\\end{split} \\label{update} \n",
    "\\end{equation}"
   ]
  },
  {
   "cell_type": "markdown",
   "metadata": {},
   "source": [
    "<div style=\"text-align: justify\"> \n",
    "<span style=\"color:blue;font-family: Times New Roman; font-size: 1.3em;\">\n",
    "Өмнөх тооцоонд зарим зүйлсийг нэмсэнээр та энгийн томъёогоор илэрхийлэгдсэн шинэ тооцоололтой болж байна.\n",
    "Харин матриц хэлбэр яах вэ? Хэрэв Гауссын хамрах хүрээний covariance матриц\n",
    "$\n",
    "\\sum\n",
    "$ \n",
    "түүний дундаж утга\n",
    "$\n",
    "\\overrightarrow{\\mu}\n",
    "$ - ээр тэнхлэг авч 12 болон 13 томъёог матриц хэлбэрт дахин бичвэл:\n",
    "</span></div>"
   ]
  },
  {
   "cell_type": "markdown",
   "metadata": {},
   "source": [
    "$$\n",
    "\\color{purple}{\\mathbf{K}} = \\Sigma_0 (\\Sigma_0 + \\Sigma_1)^{-1} \n",
    "$$"
   ]
  },
  {
   "cell_type": "markdown",
   "metadata": {},
   "source": [
    "\n",
    "\\begin{equation} \n",
    "\\begin{split} \n",
    "\\color{royalblue}{\\vec{\\mu}'} &= \\vec{\\mu_0} + &\\color{purple}{\\mathbf{K}} (\\vec{\\mu_1} - \\vec{\\mu_0})\\\\ \n",
    "\\color{mediumblue}{\\sigma'} &= \\Sigma_0 - &\\color{purple}{\\mathbf{K}} \\Sigma_0 \n",
    "\\end{split} \\label{matrixupdate} \n",
    "\\end{equation}\n"
   ]
  },
  {
   "cell_type": "markdown",
   "metadata": {},
   "source": [
    "<div style=\"text-align: justify\"> \n",
    "<span style=\"color:blue;font-family: Times New Roman; font-size: 1.3em;\">\n",
    "$\n",
    "\\color{purple}{\\mathbf{K}}\n",
    "$ - г Kalman gain\\өсгөлт гэдэг ба хэсэг зуур үүнийг ашиглана.\n",
    "\n",
    "</span></div>"
   ]
  },
  {
   "cell_type": "markdown",
   "metadata": {},
   "source": [
    "<div style=\"text-align: center\"> \n",
    "<span style=\"color:dark;font-family: Times New Roman; font-size: 2em;\">\n",
    "Бүгдийг нийлүүлбэл\n",
    "</span></div>"
   ]
  },
  {
   "cell_type": "markdown",
   "metadata": {},
   "source": [
    "<div style=\"text-align: justify\"> \n",
    "<span style=\"color:blue;font-family: Times New Roman; font-size: 1.3em;\">\n",
    "Бид таамгалсан хэмжилт \n",
    "$\n",
    "(\\color{fuchsia}{\\mu_0}, \\color{deeppink}{\\Sigma_0}) = (\\color{fuchsia}{\\mathbf{H}_k \\mathbf{\\hat{x}}_k}, \\color{deeppink}{\\mathbf{H}_k \\mathbf{P}_k \\mathbf{H}_k^T})\n",
    "$\n",
    "болон ажигласан буюу хэмжсэн хэмжилтийн \n",
    "$\n",
    "(\\color{yellowgreen}{\\mu_1}, \\color{mediumaquamarine}{\\Sigma_1}) = (\\color{yellowgreen}{\\vec{\\mathbf{z}_k}}, \\color{mediumaquamarine}{\\mathbf{R}_k})\n",
    "$ гэсэн хоёр тархалттай. Бид үүнийг \n",
    "$\n",
    "\\eqref{matrixupdate}\n",
    "$ тэгшитгэлтэй холбон түүний давхцалыг олно.\n",
    "</span></div>"
   ]
  },
  {
   "cell_type": "markdown",
   "metadata": {},
   "source": [
    "\\begin{equation} \n",
    "\\begin{aligned} \n",
    "\\mathbf{H}_k \\color{royalblue}{\\mathbf{\\hat{x}}_k'} &= \\color{fuchsia}{\\mathbf{H}_k \\mathbf{\\hat{x}}_k} & + & \\color{purple}{\\mathbf{K}} ( \\color{yellowgreen}{\\vec{\\mathbf{z}_k}} - \\color{fuchsia}{\\mathbf{H}_k \\mathbf{\\hat{x}}_k} ) \\\\ \n",
    "\\mathbf{H}_k \\color{royalblue}{\\mathbf{P}_k'} \\mathbf{H}_k^T &= \\color{deeppink}{\\mathbf{H}_k \\mathbf{P}_k \\mathbf{H}_k^T} & - & \\color{purple}{\\mathbf{K}} \\color{deeppink}{\\mathbf{H}_k \\mathbf{P}_k \\mathbf{H}_k^T} \n",
    "\\end{aligned} \\label {kalunsimplified} \n",
    "\\end{equation}"
   ]
  },
  {
   "cell_type": "markdown",
   "metadata": {},
   "source": [
    "<div style=\"text-align: justify\"> \n",
    "<span style=\"color:blue;font-family: Times New Roman; font-size: 1.3em;\">\n",
    "$\n",
    "\\eqref{matrixgain}\n",
    "$ Kalman gain бол:\n",
    "</span></div>\n"
   ]
  },
  {
   "cell_type": "markdown",
   "metadata": {},
   "source": [
    "\\begin{equation} \\label{eq:kalgainunsimplified} \n",
    "\\color{purple}{\\mathbf{K}} = \\color{deeppink}{\\mathbf{H}_k \\mathbf{P}_k \\mathbf{H}_k^T} ( \\color{deeppink}{\\mathbf{H}_k \\mathbf{P}_k \\mathbf{H}_k^T} + \\color{mediumaquamarine}{\\mathbf{R}_k})^{-1} \n",
    "\\end{equation}"
   ]
  },
  {
   "cell_type": "markdown",
   "metadata": {},
   "source": [
    "<div style=\"text-align: justify\"> \n",
    "<span style=\"color:blue;font-family: Times New Roman; font-size: 1.3em;\">\n",
    "$\n",
    "\\eqref{kalunsimplified}\n",
    "$\n",
    "болон \n",
    "$\n",
    "\\eqref{eq:kalgainunsimplified} \n",
    "$ томъёог эмхэтгэн бичвэл:\n",
    "\\begin{equation} \n",
    "\\begin{split} \n",
    "\\color{royalblue}{\\mathbf{\\hat{x}}_k'} &= \\color{fuchsia}{\\mathbf{\\hat{x}}_k} & + & \\color{purple}{\\mathbf{K}'} ( \\color{yellowgreen}{\\vec{\\mathbf{z}_k}} - \\color{fuchsia}{\\mathbf{H}_k \\mathbf{\\hat{x}}_k} ) \\\\ \n",
    "\\color{royalblue}{\\mathbf{P}_k'} &= \\color{deeppink}{\\mathbf{P}_k} & - & \\color{purple}{\\mathbf{K}'} \\color{deeppink}{\\mathbf{H}_k \\mathbf{P}_k} \n",
    "\\end{split} \n",
    "\\label{kalupdatefull} \n",
    "\\end{equation}\n",
    "\\begin{equation} \n",
    "\\color{purple}{\\mathbf{K}'} = \\color{deeppink}{\\mathbf{P}_k \\mathbf{H}_k^T} ( \\color{deeppink}{\\mathbf{H}_k \\mathbf{P}_k \\mathbf{H}_k^T} + \\color{mediumaquamarine}{\\mathbf{R}_k})^{-1} \n",
    "\\label{kalgainfull} \n",
    "\\end{equation}\n",
    "</span></div>"
   ]
  },
  {
   "cell_type": "markdown",
   "metadata": {},
   "source": [
    "<div style=\"text-align: justify\"> \n",
    "<span style=\"color:blue;font-family: Times New Roman; font-size: 1.3em;\">\n",
    "бидэнд шинэчлэх алхам\\update step бүрэн тэгшитгэл гарна.\n",
    "<p>\n",
    "Ингээд л боллоо \n",
    "$\n",
    "\\color{royalblue}{\\mathbf{\\hat{x}}_k'}\n",
    "$ бол бидний хамгийн сайн шинэ тооцоолол ба түүнийг бид цаашид мэдээллээр (\n",
    "$\n",
    "\\color{royalblue}{\\mathbf{P}_k'}\n",
    "$  - ийн хамт) тэжээснээр дараагийн тойрогт эргэж таамаглах болон түүнийг шинэчлэх гэх мэтээр олон дахин давтах юм.\n",
    "</span></div>"
   ]
  },
  {
   "cell_type": "markdown",
   "metadata": {},
   "source": [
    "![alt text](images/kalflow.png)"
   ]
  },
  {
   "cell_type": "markdown",
   "metadata": {},
   "source": [
    "## Labbe\n",
    "\n",
    "\n",
    "$$\n",
    "\\begin{aligned}\n",
    "\\overline{\\mathbf x} &= \\mathbf{Fx} + \\mathbf{Bu} \\\\\n",
    "\\overline{\\mathbf P} &=  \\mathbf{FPF}^\\mathsf{T} + \\mathbf Q \\\\ \\\\\n",
    "\\mathbf y &= \\mathbf z - \\mathbf{H}\\overline{\\mathbf x} \\\\\n",
    "\\mathbf S &= \\mathbf{H}\\overline{\\mathbf P}\\mathbf{H}^\\mathsf{T} + \\mathbf R \\\\\n",
    "\\mathbf K &= \\overline{\\mathbf P}\\mathbf{H}^\\mathsf{T}\\mathbf{S}^{-1} \\\\\n",
    "\\mathbf x  &= \\overline{\\mathbf x} +\\mathbf{Ky} \\\\\n",
    "\\mathbf P &= (\\mathbf{I}-\\mathbf{KH})\\overline{\\mathbf P}\n",
    "\\end{aligned}$$\n",
    "\n",
    "\n",
    "## Wikipedia\n",
    "$$\n",
    "\\begin{aligned}\n",
    "\\hat{\\mathbf x}_{k\\mid k-1} &= \\mathbf{F}_{k}\\hat{\\mathbf x}_{k-1\\mid k-1} + \\mathbf{B}_{k} \\mathbf{u}_{k} \\\\\n",
    "\\mathbf P_{k\\mid k-1} &=  \\mathbf{F}_{k} \\mathbf P_{k-1\\mid k-1} \\mathbf{F}_{k}^{\\textsf{T}} + \\mathbf Q_{k}\\\\\n",
    "\\tilde{\\mathbf{y}}_k &= \\mathbf{z}_k - \\mathbf{H}_k\\hat{\\mathbf x}_{k\\mid k-1} \\\\\n",
    "\\mathbf{S}_k &= \\mathbf{H}_k \\mathbf P_{k\\mid k-1} \\mathbf{H}_k^\\textsf{T} + \\mathbf{R}_k \\\\\n",
    "\\mathbf{K}_k &= \\mathbf P_{k\\mid k-1}\\mathbf{H}_k^\\textsf{T}\\mathbf{S}_k^{-1} \\\\\n",
    "\\hat{\\mathbf x}_{k\\mid k} &= \\hat{\\mathbf x}_{k\\mid k-1} + \\mathbf{K}_k\\tilde{\\mathbf{y}}_k \\\\\n",
    "\\mathbf P_{k|k} &= (I - \\mathbf{K}_k \\mathbf{H}_k) \\mathbf P_{k|k-1}\n",
    "\\end{aligned}$$\n",
    "\n",
    "## Brookner\n",
    "\n",
    "$$\n",
    "\\begin{aligned}\n",
    "X^*_{n+1,n} &= \\Phi X^*_{n,n} \\\\\n",
    "X^*_{n,n}  &= X^*_{n,n-1} +H_n(Y_n - MX^*_{n,n-1}) \\\\\n",
    "H_n &= S^*_{n,n-1}M^\\mathsf{T}[R_n + MS^*_{n,n-1}M^\\mathsf{T}]^{-1} \\\\\n",
    "S^*_{n,n-1} &= \\Phi S^*_{n-1,n-1}\\Phi^\\mathsf{T} + Q_n \\\\\n",
    "S^*_{n-1,n-1} &= (I-H_{n-1}M)S^*_{n-1,n-2}\n",
    "\\end{aligned}$$\n",
    "\n",
    "## Gelb\n",
    "\n",
    "$$\n",
    "\\begin{aligned}\n",
    "\\underline{\\hat{x}}_k(-) &= \\Phi_{k-1} \\underline{\\hat{x}}_{k-1}(+) \\\\\n",
    "\\underline{\\hat{x}}_k(+)  &= \\underline{\\hat{x}}_k(-) +K_k[Z_k - H_k\\underline{\\hat{x}}_k(-)] \\\\\n",
    "K_k &= P_k(-)H_k^\\mathsf{T}[H_kP_k(-)H_k^\\mathsf{T} + R_k]^{-1}\\\\\n",
    "P_k(+) &=  \\Phi_{k-1} P_{k-1}(+)\\Phi_{k-1}^\\mathsf{T} + Q_{k-1} \\\\\n",
    "P_k(-) &= (I-K_kH_k)P_k(-)\n",
    "\\end{aligned}$$\n",
    "\n",
    "\n",
    "## Brown\n",
    "\n",
    "$$\n",
    "\\begin{aligned}\n",
    "\\hat{\\mathbf x}^-_{k+1} &= \\mathbf{\\phi}_{k}\\hat{\\mathbf x}_{k} \\\\\n",
    "\\hat{\\mathbf x}_k  &= \\hat{\\mathbf x}^-_k +\\mathbf{K}_k[\\mathbf{z}_k - \\mathbf{H}_k\\hat{\\mathbf{}x}^-_k] \\\\\n",
    "\\mathbf{K}_k &= \\mathbf P^-_k\\mathbf{H}_k^\\mathsf{T}[\\mathbf{H}_k\\mathbf P^-_k\\mathbf{H}_k^T + \\mathbf{R}_k]^{-1}\\\\\n",
    "\\mathbf P^-_{k+1} &=  \\mathbf{\\phi}_k \\mathbf P_k\\mathbf{\\phi}_k^\\mathsf{T} + \\mathbf Q_{k} \\\\\n",
    "\\mathbf P_k &= (\\mathbf{I}-\\mathbf{K}_k\\mathbf{H}_k)\\mathbf P^-_k\n",
    "\\end{aligned}$$\n",
    "\n",
    "\n",
    "## Zarchan\n",
    "\n",
    "$$\n",
    "\\begin{aligned}\n",
    "\\hat{x}_{k} &= \\Phi_{k}\\hat{x}_{k-1} + G_ku_{k-1} + K_k[z_k - H\\Phi_{k}\\hat{x}_{k-1} - HG_ku_{k-1} ] \\\\\n",
    "M_{k} &=  \\Phi_k P_{k-1}\\phi_k^\\mathsf{T} + Q_{k} \\\\\n",
    "K_k &= M_kH^\\mathsf{T}[HM_kH^\\mathsf{T} + R_k]^{-1}\\\\\n",
    "P_k &= (I-K_kH)M_k\n",
    "\\end{aligned}$$"
   ]
  },
  {
   "cell_type": "markdown",
   "metadata": {},
   "source": [
    "<div style=\"text-align: justify\"> \n",
    "<span style=\"color:blue;font-family: Times New Roman; font-size: 1.3em;\">\n",
    "За ингээд бүгдээрэй Kalman filter - ийн онолтой танилцлаа. Дээрхи материалыг англи хэлээр үзэхийг хүсвэл дараах линкээр орно уу.\n",
    "</span></div>\n",
    "<p>[Kalman filter English](http://www.bzarg.com/p/how-a-kalman-filter-works-in-pictures/#mjx-eqn-matrixupdate)\n",
    "<p>[Oder well defined Kalman filter iPython example and book](https://github.com/rlabbe/Kalman-and-Bayesian-Filters-in-Python)\n",
    "<div style=\"text-align: justify\"> \n",
    "<span style=\"color:blue;font-family: Times New Roman; font-size: 1.3em;\">\n",
    "Kalman Filter - ийг хэрэгжүүлэхийн өмнө бид дахиад бага зэргийн Дүрсийн боловсруулалтын талаар мэдлэгэтэй байх шаардлагатай бөгөд дараах линкээр орж OpenCV талаар мэдээлэл авна уу. \n",
    "</span></div>\n",
    "<p>[OpenCV English tutorials](http://opencv-python-tutroals.readthedocs.io/en/latest/py_tutorials/py_tutorials.html)\n",
    "<p>[OpenCV Mongolian tutorial](https://github.com/orgilj/opencv-notebooks/blob/master/Tutorial%201.ipynb)\n",
    "<p>[Numpy English tutorial](https://docs.scipy.org/doc/numpy-dev/user/quickstart.html)\n"
   ]
  },
  {
   "cell_type": "markdown",
   "metadata": {},
   "source": [
    "<div style=\"text-align: justify\"> \n",
    "<span style=\"color:blue;font-family: Times New Roman; font-size: 1.3em;\">\n",
    "Хэрэв дээрхи материалуудыг уншиж танилцан Python болон OpenCV талаар тодорхой мэдлэгтэй болсон бол эхлээд дээрхи мэдлэгүүдээ нэгтгэн хялбар жишээ авч үзье.\n",
    "\n",
    "</span></div>\n"
   ]
  },
  {
   "cell_type": "markdown",
   "metadata": {},
   "source": [
    "</span></div>\n",
    "<div style=\"text-align: center\"> \n",
    "<span style=\"color:dark;font-family: Times New Roman; font-size: 2em;\">\n",
    "Жишээ 1\n",
    "</span></div>"
   ]
  },
  {
   "cell_type": "markdown",
   "metadata": {},
   "source": [
    "<div style=\"text-align: justify\"> \n",
    "<span style=\"color:blue;font-family: Times New Roman; font-size: 1.3em;\">\n",
    "Мэдрэгчээс дараах утгуудыг уншиж авсан гэж үзье.\n",
    "\n",
    "</span></div>"
   ]
  },
  {
   "cell_type": "code",
   "execution_count": 25,
   "metadata": {
    "collapsed": false
   },
   "outputs": [
    {
     "name": "stdout",
     "output_type": "stream",
     "text": [
      "Mean of readings position is 59.894\n",
      "Mean of readings velocity is 5.243\n"
     ]
    },
    {
     "data": {
      "image/png": "[encoded data removed]",
      "text/plain": [
       "<matplotlib.figure.Figure at 0x7e4db00>"
      ]
     },
     "metadata": {},
     "output_type": "display_data"
    }
   ],
   "source": [
    "%matplotlib inline  \n",
    "import numpy as np\n",
    "import matplotlib.pyplot as plt\n",
    "from numpy.random import randn\n",
    "\n",
    "position = np.linspace( 10, 110, 50 ) + randn(50)\n",
    "velocity = np.linspace( 0, 10, 50 ) + randn(50)\n",
    "plt.plot(velocity, position,'bo')\n",
    "plt.grid(True)\n",
    "print('Mean of readings position is {:.3f}'.format(np.mean(position)))\n",
    "print('Mean of readings velocity is {:.3f}'.format(np.mean(velocity)))"
   ]
  },
  {
   "cell_type": "code",
   "execution_count": 26,
   "metadata": {
    "collapsed": false
   },
   "outputs": [
    {
     "name": "stdout",
     "output_type": "stream",
     "text": [
      "(50L,) (50L,)\n",
      "2.02424627153 0.224162204397\n"
     ]
    }
   ],
   "source": [
    "z_position = np.mean(np.diff(position))\n",
    "z_velocity = np.mean(np.diff(velocity))\n",
    "print np.shape(position), np.shape(velocity)\n",
    "print z_position,z_velocity"
   ]
  },
  {
   "cell_type": "code",
   "execution_count": 27,
   "metadata": {
    "collapsed": false
   },
   "outputs": [
    {
     "name": "stdout",
     "output_type": "stream",
     "text": [
      "[ 2.  1.] [[ 0.]\n",
      " [ 0.]]\n"
     ]
    }
   ],
   "source": [
    "mp = np.array((2,1), np.float32) # measurement matrice\n",
    "tp = np.zeros((2,1), np.float32) # tracked / prediction matrice\n",
    "print mp,tp"
   ]
  },
  {
   "cell_type": "code",
   "execution_count": 28,
   "metadata": {
    "collapsed": true
   },
   "outputs": [],
   "source": [
    "def predict(posterior, movement):\n",
    "    x, P = posterior # mean and variance of posterior\n",
    "    dx, Q = movement # mean and variance of movement\n",
    "    x = x + dx\n",
    "    P = P + Q\n",
    "    return x, P\n",
    "\n",
    "def update(prior, measurement):\n",
    "    x, P = prior        # mean and variance of prior\n",
    "    z, R = measurement  # mean and variance of measurement\n",
    "    \n",
    "    y = z - x        # residual\n",
    "    K = P / (P + R)  # Kalman gain\n",
    "\n",
    "    x = x + K*y      # posterior\n",
    "    P = (1 - K) * P    # posterior variance\n",
    "    return x, P"
   ]
  },
  {
   "cell_type": "code",
   "execution_count": 37,
   "metadata": {
    "collapsed": false
   },
   "outputs": [],
   "source": [
    "from __future__ import (absolute_import, division, print_function,\n",
    "                        unicode_literals)\n",
    "\n",
    "\n",
    "import filterpy.stats as stats\n",
    "from math import sqrt\n",
    "import matplotlib.pyplot as plt\n",
    "import numpy as np\n",
    "from numpy.random import randn, seed"
   ]
  },
  {
   "cell_type": "code",
   "execution_count": 38,
   "metadata": {
    "collapsed": false
   },
   "outputs": [
    {
     "data": {
      "text/plain": [
       "(5, 15)"
      ]
     },
     "execution_count": 38,
     "metadata": {},
     "output_type": "execute_result"
    },
    {
     "data": {
      "image/png": "[encoded data removed]",
      "text/plain": [
       "<matplotlib.figure.Figure at 0x8490400>"
      ]
     },
     "metadata": {},
     "output_type": "display_data"
    }
   ],
   "source": [
    "    seed(15)\n",
    "    xs = np.arange(0, 20, 0.1)\n",
    "    ys = np.array([stats.gaussian(x-10, 0, 2) for x in xs])\n",
    "    bar_ys = abs(ys + randn(len(xs)) * stats.gaussian(xs-10, 0, 10)/2)\n",
    "    plt.gca().bar(xs[::5]-.25, bar_ys[::5], width=0.5, color='g')\n",
    "    plt.plot(xs, ys, lw=3, color='k')\n",
    "    plt.xlim(5, 15)"
   ]
  },
  {
   "cell_type": "code",
   "execution_count": null,
   "metadata": {
    "collapsed": true
   },
   "outputs": [],
   "source": []
  },
  {
   "cell_type": "code",
   "execution_count": null,
   "metadata": {
    "collapsed": true
   },
   "outputs": [],
   "source": []
  }
 ],
 "metadata": {
  "anaconda-cloud": {},
  "celltoolbar": "Raw Cell Format",
  "kernelspec": {
   "display_name": "Python [conda root]",
   "language": "python",
   "name": "conda-root-py"
  },
  "language_info": {
   "codemirror_mode": {
    "name": "ipython",
    "version": 2
   },
   "file_extension": ".py",
   "mimetype": "text/x-python",
   "name": "python",
   "nbconvert_exporter": "python",
   "pygments_lexer": "ipython2",
   "version": "2.7.12"
  }
 },
 "nbformat": 4,
 "nbformat_minor": 2
}
